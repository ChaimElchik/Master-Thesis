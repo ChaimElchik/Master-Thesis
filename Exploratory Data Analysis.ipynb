{
 "cells": [
  {
   "cell_type": "markdown",
   "id": "5e25ea09-74d6-47e6-bad6-e922f52c3532",
   "metadata": {},
   "source": [
    "# Personal Information\n",
    "Name: **Chaim Elchik**\n",
    "\n",
    "StudentID: **12314188**\n",
    "\n",
    "Email: [**chaim.elchik@student.uva.nl**](youremail@student.uva.nl)\n",
    "\n",
    "Submitted on: **22.03.2024**"
   ]
  },
  {
   "cell_type": "markdown",
   "id": "e3cf6243-adfe-4eb8-bba3-bb2835079abd",
   "metadata": {},
   "source": [
    "# Data Context\n",
    "\n",
    "\n",
    "\n",
    "The dataset is build-up of multiple videos of fish swimming underwater and corresponding mots. \n",
    "\n",
    "The fish videos dataset part contains 182 videos of which 91 are stereo videos, meaning there are two different camera views. In total, there are  84,464 frames and 3,796 tracks. The short videos are 1080 x 1920 resolution, 240HZ, and contain 260 frames. The long videos are 1080 x 1920 resolution, 240HZ and 317 frames for videos (129\\_1, 161, 183, 231, 261\\_1, 349, 406_2) and 318 frames for videos (129_2, 349_1, 406_1). The short videos have been labeled by students and the long videos by the supervisors.\n",
    "\n",
    "The mots dataset part contains .txt files that correspond to each video from the fish videos dataset part. These .txt files contain the tracking data per frame for all identified subjects. The data is formatted in a way silimair to what would be needed for training a model and similair to the output of a multiple object tracking model."
   ]
  },
  {
   "cell_type": "markdown",
   "id": "a833d964-56e1-49c7-8172-7435357624aa",
   "metadata": {},
   "source": [
    "# Data Description\n"
   ]
  },
  {
   "cell_type": "markdown",
   "id": "727255ab",
   "metadata": {},
   "source": [
    "### Imports"
   ]
  },
  {
   "cell_type": "code",
   "execution_count": 54,
   "id": "534317db-d881-4e33-a358-754e2881e8bd",
   "metadata": {},
   "outputs": [],
   "source": [
    "# Imports\n",
    "import os\n",
    "import numpy as np\n",
    "import pandas as pd\n",
    "import cv2\n",
    "from scipy.io import loadmat\n",
    "from scipy.stats import pearsonr\n",
    "from sklearn.metrics import mean_squared_error, mean_absolute_error, r2_score\n",
    "import matplotlib.pyplot as plt\n",
    "import seaborn as sns"
   ]
  },
  {
   "cell_type": "markdown",
   "id": "b582b299-f599-4140-a454-bcbfdeeb273f",
   "metadata": {},
   "source": [
    "### Data Loading"
   ]
  },
  {
   "cell_type": "markdown",
   "id": "96c875f7",
   "metadata": {},
   "source": [
    "#### Loading a mot .txt file "
   ]
  },
  {
   "cell_type": "code",
   "execution_count": 27,
   "id": "9f0cf9be-2cac-4227-957f-ad893212e70c",
   "metadata": {},
   "outputs": [
    {
     "data": {
      "text/html": [
       "<div>\n",
       "<style scoped>\n",
       "    .dataframe tbody tr th:only-of-type {\n",
       "        vertical-align: middle;\n",
       "    }\n",
       "\n",
       "    .dataframe tbody tr th {\n",
       "        vertical-align: top;\n",
       "    }\n",
       "\n",
       "    .dataframe thead th {\n",
       "        text-align: right;\n",
       "    }\n",
       "</style>\n",
       "<table border=\"1\" class=\"dataframe\">\n",
       "  <thead>\n",
       "    <tr style=\"text-align: right;\">\n",
       "      <th></th>\n",
       "      <th>1</th>\n",
       "      <th>1.1</th>\n",
       "      <th>1212.98</th>\n",
       "      <th>416.74</th>\n",
       "      <th>26.039999999999964</th>\n",
       "      <th>14.370000000000005</th>\n",
       "      <th>1.2</th>\n",
       "      <th>1.3</th>\n",
       "      <th>1.0</th>\n",
       "    </tr>\n",
       "  </thead>\n",
       "  <tbody>\n",
       "    <tr>\n",
       "      <th>0</th>\n",
       "      <td>1</td>\n",
       "      <td>2</td>\n",
       "      <td>1151.14</td>\n",
       "      <td>415.00</td>\n",
       "      <td>27.58</td>\n",
       "      <td>10.34</td>\n",
       "      <td>1</td>\n",
       "      <td>1</td>\n",
       "      <td>1.0</td>\n",
       "    </tr>\n",
       "    <tr>\n",
       "      <th>1</th>\n",
       "      <td>1</td>\n",
       "      <td>3</td>\n",
       "      <td>1487.32</td>\n",
       "      <td>431.94</td>\n",
       "      <td>17.38</td>\n",
       "      <td>19.86</td>\n",
       "      <td>1</td>\n",
       "      <td>1</td>\n",
       "      <td>1.0</td>\n",
       "    </tr>\n",
       "    <tr>\n",
       "      <th>2</th>\n",
       "      <td>1</td>\n",
       "      <td>4</td>\n",
       "      <td>1080.11</td>\n",
       "      <td>337.38</td>\n",
       "      <td>18.68</td>\n",
       "      <td>6.46</td>\n",
       "      <td>1</td>\n",
       "      <td>1</td>\n",
       "      <td>1.0</td>\n",
       "    </tr>\n",
       "    <tr>\n",
       "      <th>3</th>\n",
       "      <td>1</td>\n",
       "      <td>5</td>\n",
       "      <td>1220.90</td>\n",
       "      <td>325.30</td>\n",
       "      <td>21.28</td>\n",
       "      <td>10.54</td>\n",
       "      <td>1</td>\n",
       "      <td>1</td>\n",
       "      <td>1.0</td>\n",
       "    </tr>\n",
       "    <tr>\n",
       "      <th>4</th>\n",
       "      <td>1</td>\n",
       "      <td>6</td>\n",
       "      <td>1211.27</td>\n",
       "      <td>319.51</td>\n",
       "      <td>27.47</td>\n",
       "      <td>8.96</td>\n",
       "      <td>1</td>\n",
       "      <td>1</td>\n",
       "      <td>1.0</td>\n",
       "    </tr>\n",
       "    <tr>\n",
       "      <th>...</th>\n",
       "      <td>...</td>\n",
       "      <td>...</td>\n",
       "      <td>...</td>\n",
       "      <td>...</td>\n",
       "      <td>...</td>\n",
       "      <td>...</td>\n",
       "      <td>...</td>\n",
       "      <td>...</td>\n",
       "      <td>...</td>\n",
       "    </tr>\n",
       "    <tr>\n",
       "      <th>30195</th>\n",
       "      <td>3117</td>\n",
       "      <td>5</td>\n",
       "      <td>1011.60</td>\n",
       "      <td>235.99</td>\n",
       "      <td>10.38</td>\n",
       "      <td>22.01</td>\n",
       "      <td>1</td>\n",
       "      <td>1</td>\n",
       "      <td>1.0</td>\n",
       "    </tr>\n",
       "    <tr>\n",
       "      <th>30196</th>\n",
       "      <td>3117</td>\n",
       "      <td>6</td>\n",
       "      <td>1304.99</td>\n",
       "      <td>217.40</td>\n",
       "      <td>15.01</td>\n",
       "      <td>24.80</td>\n",
       "      <td>1</td>\n",
       "      <td>1</td>\n",
       "      <td>1.0</td>\n",
       "    </tr>\n",
       "    <tr>\n",
       "      <th>30197</th>\n",
       "      <td>3117</td>\n",
       "      <td>7</td>\n",
       "      <td>969.60</td>\n",
       "      <td>489.40</td>\n",
       "      <td>23.90</td>\n",
       "      <td>16.40</td>\n",
       "      <td>1</td>\n",
       "      <td>1</td>\n",
       "      <td>1.0</td>\n",
       "    </tr>\n",
       "    <tr>\n",
       "      <th>30198</th>\n",
       "      <td>3117</td>\n",
       "      <td>8</td>\n",
       "      <td>1037.36</td>\n",
       "      <td>245.93</td>\n",
       "      <td>14.89</td>\n",
       "      <td>29.79</td>\n",
       "      <td>1</td>\n",
       "      <td>1</td>\n",
       "      <td>1.0</td>\n",
       "    </tr>\n",
       "    <tr>\n",
       "      <th>30199</th>\n",
       "      <td>3117</td>\n",
       "      <td>9</td>\n",
       "      <td>1103.97</td>\n",
       "      <td>670.34</td>\n",
       "      <td>22.04</td>\n",
       "      <td>25.01</td>\n",
       "      <td>1</td>\n",
       "      <td>1</td>\n",
       "      <td>1.0</td>\n",
       "    </tr>\n",
       "  </tbody>\n",
       "</table>\n",
       "<p>30200 rows × 9 columns</p>\n",
       "</div>"
      ],
      "text/plain": [
       "          1  1.1  1212.98  416.74  26.039999999999964  14.370000000000005  \\\n",
       "0         1    2  1151.14  415.00               27.58               10.34   \n",
       "1         1    3  1487.32  431.94               17.38               19.86   \n",
       "2         1    4  1080.11  337.38               18.68                6.46   \n",
       "3         1    5  1220.90  325.30               21.28               10.54   \n",
       "4         1    6  1211.27  319.51               27.47                8.96   \n",
       "...     ...  ...      ...     ...                 ...                 ...   \n",
       "30195  3117    5  1011.60  235.99               10.38               22.01   \n",
       "30196  3117    6  1304.99  217.40               15.01               24.80   \n",
       "30197  3117    7   969.60  489.40               23.90               16.40   \n",
       "30198  3117    8  1037.36  245.93               14.89               29.79   \n",
       "30199  3117    9  1103.97  670.34               22.04               25.01   \n",
       "\n",
       "       1.2  1.3  1.0  \n",
       "0        1    1  1.0  \n",
       "1        1    1  1.0  \n",
       "2        1    1  1.0  \n",
       "3        1    1  1.0  \n",
       "4        1    1  1.0  \n",
       "...    ...  ...  ...  \n",
       "30195    1    1  1.0  \n",
       "30196    1    1  1.0  \n",
       "30197    1    1  1.0  \n",
       "30198    1    1  1.0  \n",
       "30199    1    1  1.0  \n",
       "\n",
       "[30200 rows x 9 columns]"
      ]
     },
     "metadata": {},
     "output_type": "display_data"
    }
   ],
   "source": [
    "# A default mot file looks the following way when loaded in as a pandas dataframe\n",
    "csv_path = 'mots/129_1.txt'\n",
    "df = pd.read_csv(csv_path)\n",
    "display(df)\n"
   ]
  },
  {
   "cell_type": "markdown",
   "id": "4eb46c83",
   "metadata": {},
   "source": [
    "The colomns have no clear names and the data seems rather unstructured. After some deepdiving into the mots\n",
    "and fish videos it became clear what the values in the different columns meant. This made it possible to clean up the files and give them a more readable structure. "
   ]
  },
  {
   "cell_type": "markdown",
   "id": "729e27c7",
   "metadata": {},
   "source": [
    "### Data Clean Up"
   ]
  },
  {
   "cell_type": "markdown",
   "id": "73d0fb68",
   "metadata": {},
   "source": [
    "#### mot .txt file cleanup"
   ]
  },
  {
   "cell_type": "code",
   "execution_count": 28,
   "id": "9842f02d",
   "metadata": {},
   "outputs": [],
   "source": [
    "# The following function cleans up the mot file and restructures it and saves a clean version of the file\n",
    "def clean_file(input_file):\n",
    "    output_file = input_file.replace('.txt', '_clean.txt')\n",
    "\n",
    "    with open(input_file, 'r') as infile, open(output_file, 'w') as outfile:\n",
    "        # Write header to the output file\n",
    "        outfile.write(\"frame,id,x,y,x_offset,y_offset\\n\")\n",
    "\n",
    "        # Process each line of the input file\n",
    "        for line in infile:\n",
    "            # Split the line by commas\n",
    "            parts = line.strip().split(',')\n",
    "\n",
    "            # Extract relevant information and convert to desired format\n",
    "            frame = parts[0]\n",
    "            ID = parts[1]\n",
    "            x = float(parts[2])\n",
    "            y = float(parts[3])\n",
    "            x_offset = float(parts[4])\n",
    "            y_offset = float(parts[5])\n",
    "\n",
    "            # Write the cleaned data to the output file\n",
    "            outfile.write(f\"{frame},{ID},{x},{y},{x_offset},{y_offset}\\n\")\n",
    "\n",
    "    print(f\"Cleaned data saved to {output_file}\")"
   ]
  },
  {
   "cell_type": "markdown",
   "id": "7eebe0cc",
   "metadata": {},
   "source": [
    "The function is used in the following way"
   ]
  },
  {
   "cell_type": "code",
   "execution_count": null,
   "id": "0d407f9a",
   "metadata": {},
   "outputs": [],
   "source": [
    "# function usage\n",
    "clean_file('mots/129_1.txt')"
   ]
  },
  {
   "cell_type": "markdown",
   "id": "7d0f062a",
   "metadata": {},
   "source": [
    "When using the function we are able to reload a mot file and it looks the following way"
   ]
  },
  {
   "cell_type": "code",
   "execution_count": 29,
   "id": "b56131b9",
   "metadata": {},
   "outputs": [
    {
     "data": {
      "text/html": [
       "<div>\n",
       "<style scoped>\n",
       "    .dataframe tbody tr th:only-of-type {\n",
       "        vertical-align: middle;\n",
       "    }\n",
       "\n",
       "    .dataframe tbody tr th {\n",
       "        vertical-align: top;\n",
       "    }\n",
       "\n",
       "    .dataframe thead th {\n",
       "        text-align: right;\n",
       "    }\n",
       "</style>\n",
       "<table border=\"1\" class=\"dataframe\">\n",
       "  <thead>\n",
       "    <tr style=\"text-align: right;\">\n",
       "      <th></th>\n",
       "      <th>frame</th>\n",
       "      <th>id</th>\n",
       "      <th>x</th>\n",
       "      <th>y</th>\n",
       "      <th>x_offset</th>\n",
       "      <th>y_offset</th>\n",
       "    </tr>\n",
       "  </thead>\n",
       "  <tbody>\n",
       "    <tr>\n",
       "      <th>0</th>\n",
       "      <td>1</td>\n",
       "      <td>1</td>\n",
       "      <td>1212.98</td>\n",
       "      <td>416.74</td>\n",
       "      <td>26.04</td>\n",
       "      <td>14.37</td>\n",
       "    </tr>\n",
       "    <tr>\n",
       "      <th>1</th>\n",
       "      <td>1</td>\n",
       "      <td>2</td>\n",
       "      <td>1151.14</td>\n",
       "      <td>415.00</td>\n",
       "      <td>27.58</td>\n",
       "      <td>10.34</td>\n",
       "    </tr>\n",
       "    <tr>\n",
       "      <th>2</th>\n",
       "      <td>1</td>\n",
       "      <td>3</td>\n",
       "      <td>1487.32</td>\n",
       "      <td>431.94</td>\n",
       "      <td>17.38</td>\n",
       "      <td>19.86</td>\n",
       "    </tr>\n",
       "    <tr>\n",
       "      <th>3</th>\n",
       "      <td>1</td>\n",
       "      <td>4</td>\n",
       "      <td>1080.11</td>\n",
       "      <td>337.38</td>\n",
       "      <td>18.68</td>\n",
       "      <td>6.46</td>\n",
       "    </tr>\n",
       "    <tr>\n",
       "      <th>4</th>\n",
       "      <td>1</td>\n",
       "      <td>5</td>\n",
       "      <td>1220.90</td>\n",
       "      <td>325.30</td>\n",
       "      <td>21.28</td>\n",
       "      <td>10.54</td>\n",
       "    </tr>\n",
       "    <tr>\n",
       "      <th>...</th>\n",
       "      <td>...</td>\n",
       "      <td>...</td>\n",
       "      <td>...</td>\n",
       "      <td>...</td>\n",
       "      <td>...</td>\n",
       "      <td>...</td>\n",
       "    </tr>\n",
       "    <tr>\n",
       "      <th>30196</th>\n",
       "      <td>3117</td>\n",
       "      <td>5</td>\n",
       "      <td>1011.60</td>\n",
       "      <td>235.99</td>\n",
       "      <td>10.38</td>\n",
       "      <td>22.01</td>\n",
       "    </tr>\n",
       "    <tr>\n",
       "      <th>30197</th>\n",
       "      <td>3117</td>\n",
       "      <td>6</td>\n",
       "      <td>1304.99</td>\n",
       "      <td>217.40</td>\n",
       "      <td>15.01</td>\n",
       "      <td>24.80</td>\n",
       "    </tr>\n",
       "    <tr>\n",
       "      <th>30198</th>\n",
       "      <td>3117</td>\n",
       "      <td>7</td>\n",
       "      <td>969.60</td>\n",
       "      <td>489.40</td>\n",
       "      <td>23.90</td>\n",
       "      <td>16.40</td>\n",
       "    </tr>\n",
       "    <tr>\n",
       "      <th>30199</th>\n",
       "      <td>3117</td>\n",
       "      <td>8</td>\n",
       "      <td>1037.36</td>\n",
       "      <td>245.93</td>\n",
       "      <td>14.89</td>\n",
       "      <td>29.79</td>\n",
       "    </tr>\n",
       "    <tr>\n",
       "      <th>30200</th>\n",
       "      <td>3117</td>\n",
       "      <td>9</td>\n",
       "      <td>1103.97</td>\n",
       "      <td>670.34</td>\n",
       "      <td>22.04</td>\n",
       "      <td>25.01</td>\n",
       "    </tr>\n",
       "  </tbody>\n",
       "</table>\n",
       "<p>30201 rows × 6 columns</p>\n",
       "</div>"
      ],
      "text/plain": [
       "       frame  id        x       y  x_offset  y_offset\n",
       "0          1   1  1212.98  416.74     26.04     14.37\n",
       "1          1   2  1151.14  415.00     27.58     10.34\n",
       "2          1   3  1487.32  431.94     17.38     19.86\n",
       "3          1   4  1080.11  337.38     18.68      6.46\n",
       "4          1   5  1220.90  325.30     21.28     10.54\n",
       "...      ...  ..      ...     ...       ...       ...\n",
       "30196   3117   5  1011.60  235.99     10.38     22.01\n",
       "30197   3117   6  1304.99  217.40     15.01     24.80\n",
       "30198   3117   7   969.60  489.40     23.90     16.40\n",
       "30199   3117   8  1037.36  245.93     14.89     29.79\n",
       "30200   3117   9  1103.97  670.34     22.04     25.01\n",
       "\n",
       "[30201 rows x 6 columns]"
      ]
     },
     "metadata": {},
     "output_type": "display_data"
    }
   ],
   "source": [
    "# loading in a clean mot file\n",
    "csv_path_clean_mot = 'mots/129_1_clean.txt'\n",
    "df_clean_mot = pd.read_csv(csv_path_clean_mot)\n",
    "display(df_clean_mot)"
   ]
  },
  {
   "cell_type": "markdown",
   "id": "8368854c",
   "metadata": {},
   "source": [
    "Here we can see clearly the frame number, id, x coordinates, y coordinates, x_offset and y_offset. The x_offset adn y_offset are used for drawing the bounding boxes around a subject. Each subject therefore has an id and tracking information. This is recorded for each frame in the video. "
   ]
  },
  {
   "cell_type": "markdown",
   "id": "e52db966",
   "metadata": {},
   "source": [
    "## Data Analysis"
   ]
  },
  {
   "cell_type": "code",
   "execution_count": 30,
   "id": "9abe2cf9",
   "metadata": {},
   "outputs": [
    {
     "data": {
      "text/html": [
       "<div>\n",
       "<style scoped>\n",
       "    .dataframe tbody tr th:only-of-type {\n",
       "        vertical-align: middle;\n",
       "    }\n",
       "\n",
       "    .dataframe tbody tr th {\n",
       "        vertical-align: top;\n",
       "    }\n",
       "\n",
       "    .dataframe thead th {\n",
       "        text-align: right;\n",
       "    }\n",
       "</style>\n",
       "<table border=\"1\" class=\"dataframe\">\n",
       "  <thead>\n",
       "    <tr style=\"text-align: right;\">\n",
       "      <th></th>\n",
       "      <th>frame</th>\n",
       "      <th>id</th>\n",
       "      <th>x</th>\n",
       "      <th>y</th>\n",
       "      <th>x_offset</th>\n",
       "      <th>y_offset</th>\n",
       "    </tr>\n",
       "  </thead>\n",
       "  <tbody>\n",
       "    <tr>\n",
       "      <th>0</th>\n",
       "      <td>1</td>\n",
       "      <td>1</td>\n",
       "      <td>1212.98</td>\n",
       "      <td>416.74</td>\n",
       "      <td>26.04</td>\n",
       "      <td>14.37</td>\n",
       "    </tr>\n",
       "    <tr>\n",
       "      <th>1</th>\n",
       "      <td>1</td>\n",
       "      <td>2</td>\n",
       "      <td>1151.14</td>\n",
       "      <td>415.00</td>\n",
       "      <td>27.58</td>\n",
       "      <td>10.34</td>\n",
       "    </tr>\n",
       "    <tr>\n",
       "      <th>2</th>\n",
       "      <td>1</td>\n",
       "      <td>3</td>\n",
       "      <td>1487.32</td>\n",
       "      <td>431.94</td>\n",
       "      <td>17.38</td>\n",
       "      <td>19.86</td>\n",
       "    </tr>\n",
       "    <tr>\n",
       "      <th>3</th>\n",
       "      <td>1</td>\n",
       "      <td>4</td>\n",
       "      <td>1080.11</td>\n",
       "      <td>337.38</td>\n",
       "      <td>18.68</td>\n",
       "      <td>6.46</td>\n",
       "    </tr>\n",
       "    <tr>\n",
       "      <th>4</th>\n",
       "      <td>1</td>\n",
       "      <td>5</td>\n",
       "      <td>1220.90</td>\n",
       "      <td>325.30</td>\n",
       "      <td>21.28</td>\n",
       "      <td>10.54</td>\n",
       "    </tr>\n",
       "    <tr>\n",
       "      <th>...</th>\n",
       "      <td>...</td>\n",
       "      <td>...</td>\n",
       "      <td>...</td>\n",
       "      <td>...</td>\n",
       "      <td>...</td>\n",
       "      <td>...</td>\n",
       "    </tr>\n",
       "    <tr>\n",
       "      <th>30196</th>\n",
       "      <td>3117</td>\n",
       "      <td>5</td>\n",
       "      <td>1011.60</td>\n",
       "      <td>235.99</td>\n",
       "      <td>10.38</td>\n",
       "      <td>22.01</td>\n",
       "    </tr>\n",
       "    <tr>\n",
       "      <th>30197</th>\n",
       "      <td>3117</td>\n",
       "      <td>6</td>\n",
       "      <td>1304.99</td>\n",
       "      <td>217.40</td>\n",
       "      <td>15.01</td>\n",
       "      <td>24.80</td>\n",
       "    </tr>\n",
       "    <tr>\n",
       "      <th>30198</th>\n",
       "      <td>3117</td>\n",
       "      <td>7</td>\n",
       "      <td>969.60</td>\n",
       "      <td>489.40</td>\n",
       "      <td>23.90</td>\n",
       "      <td>16.40</td>\n",
       "    </tr>\n",
       "    <tr>\n",
       "      <th>30199</th>\n",
       "      <td>3117</td>\n",
       "      <td>8</td>\n",
       "      <td>1037.36</td>\n",
       "      <td>245.93</td>\n",
       "      <td>14.89</td>\n",
       "      <td>29.79</td>\n",
       "    </tr>\n",
       "    <tr>\n",
       "      <th>30200</th>\n",
       "      <td>3117</td>\n",
       "      <td>9</td>\n",
       "      <td>1103.97</td>\n",
       "      <td>670.34</td>\n",
       "      <td>22.04</td>\n",
       "      <td>25.01</td>\n",
       "    </tr>\n",
       "  </tbody>\n",
       "</table>\n",
       "<p>30201 rows × 6 columns</p>\n",
       "</div>"
      ],
      "text/plain": [
       "       frame  id        x       y  x_offset  y_offset\n",
       "0          1   1  1212.98  416.74     26.04     14.37\n",
       "1          1   2  1151.14  415.00     27.58     10.34\n",
       "2          1   3  1487.32  431.94     17.38     19.86\n",
       "3          1   4  1080.11  337.38     18.68      6.46\n",
       "4          1   5  1220.90  325.30     21.28     10.54\n",
       "...      ...  ..      ...     ...       ...       ...\n",
       "30196   3117   5  1011.60  235.99     10.38     22.01\n",
       "30197   3117   6  1304.99  217.40     15.01     24.80\n",
       "30198   3117   7   969.60  489.40     23.90     16.40\n",
       "30199   3117   8  1037.36  245.93     14.89     29.79\n",
       "30200   3117   9  1103.97  670.34     22.04     25.01\n",
       "\n",
       "[30201 rows x 6 columns]"
      ]
     },
     "metadata": {},
     "output_type": "display_data"
    }
   ],
   "source": [
    "display(df_clean_mot)"
   ]
  },
  {
   "cell_type": "markdown",
   "id": "886e836b",
   "metadata": {},
   "source": [
    "Each mot file contains the same columns and can therefore cleaned up in the same way. The different columns are rather logical in their function. The last 3 columns were removed by the clean up function as they did not contain any relevant information as they had the exact same value for each row.\n",
    "\n",
    "* frame: the video frame \n",
    "* id: the unique identification code per tracked subject\n",
    "* x: the x coordinates of the subject identified bij its id in the given frame\n",
    "* y: the y coordinates of the subject identified bij its id in the given frame\n",
    "* x_offset: the offset from x used to create the bounding boxes for a given frame for a given id\n",
    "* y_offset: the offset from x used to create the bounding boxes for a given frame for a given id"
   ]
  },
  {
   "cell_type": "markdown",
   "id": "c3ae8d12",
   "metadata": {},
   "source": [
    "### Fish tracking visualization"
   ]
  },
  {
   "cell_type": "code",
   "execution_count": 11,
   "id": "b604d314",
   "metadata": {},
   "outputs": [],
   "source": [
    "def Viz_fish_vid(mot_path,vid_path):\n",
    "    # Read the video file\n",
    "    cap = cv2.VideoCapture(vid_path)\n",
    "\n",
    "    # Read the bounding box coordinates from the CSV file\n",
    "    df = pd.read_csv(mot_path)\n",
    "    \n",
    "    # Iterate through each frame\n",
    "    while True:\n",
    "        ret, frame = cap.read()\n",
    "        if not ret:\n",
    "            # Reset the video capture to the beginning\n",
    "            cap.set(cv2.CAP_PROP_POS_FRAMES, 0)\n",
    "            continue\n",
    "\n",
    "        # Get the bounding box coordinates for the current frame\n",
    "        frame_number = int(cap.get(cv2.CAP_PROP_POS_FRAMES))\n",
    "        frame_boxes = df[df['frame'] == frame_number]\n",
    "\n",
    "        # Draw bounding boxes on the frame\n",
    "        for _, row in frame_boxes.iterrows():\n",
    "            x, y, x_offset, y_offset, obj_id = int(row['x']), int(row['y']), int(row['x_offset']), int(row['y_offset']), int(row['id'])\n",
    "            xmin, ymin, xmax, ymax = x, y, x + x_offset, y + y_offset\n",
    "\n",
    "            # Draw bounding box\n",
    "            cv2.rectangle(frame, (xmin, ymin), (xmax, ymax), (0, 255, 0), 2)\n",
    "\n",
    "            # Display object id\n",
    "            cv2.putText(frame, f\"ID: {obj_id}\", (xmin, ymin - 10), cv2.FONT_HERSHEY_SIMPLEX, 0.5, (0, 255, 0), 2)\n",
    "\n",
    "        # Display the frame with bounding boxes\n",
    "        cv2.imshow('Frame', frame)\n",
    "        if cv2.waitKey(1) & 0xFF == ord('q'):\n",
    "            break\n",
    "\n",
    "    # Release the video capture and close windows\n",
    "    cap.release()\n",
    "    cv2.destroyAllWindows()"
   ]
  },
  {
   "cell_type": "markdown",
   "id": "b8761754",
   "metadata": {},
   "source": [
    "The function above takes a clean mot file and fish video and merges them to create a new video displaying the tracking information and bounding boxes around the fish."
   ]
  },
  {
   "cell_type": "code",
   "execution_count": 14,
   "id": "392940ea",
   "metadata": {},
   "outputs": [
    {
     "ename": "KeyboardInterrupt",
     "evalue": "",
     "output_type": "error",
     "traceback": [
      "\u001b[0;31m---------------------------------------------------------------------------\u001b[0m",
      "\u001b[0;31mKeyboardInterrupt\u001b[0m                         Traceback (most recent call last)",
      "Cell \u001b[0;32mIn[14], line 2\u001b[0m\n\u001b[1;32m      1\u001b[0m \u001b[38;5;66;03m# The fish video vizualization function can be used in the following way\u001b[39;00m\n\u001b[0;32m----> 2\u001b[0m Viz_fish_vid(\u001b[38;5;124m'\u001b[39m\u001b[38;5;124mmots/129_1_clean.txt\u001b[39m\u001b[38;5;124m'\u001b[39m,\u001b[38;5;124m'\u001b[39m\u001b[38;5;124mvids/129_1.mp4\u001b[39m\u001b[38;5;124m'\u001b[39m)\n",
      "Cell \u001b[0;32mIn[11], line 33\u001b[0m, in \u001b[0;36mViz_fish_vid\u001b[0;34m(mot_path, vid_path)\u001b[0m\n\u001b[1;32m     31\u001b[0m     \u001b[38;5;66;03m# Display the frame with bounding boxes\u001b[39;00m\n\u001b[1;32m     32\u001b[0m     cv2\u001b[38;5;241m.\u001b[39mimshow(\u001b[38;5;124m'\u001b[39m\u001b[38;5;124mFrame\u001b[39m\u001b[38;5;124m'\u001b[39m, frame)\n\u001b[0;32m---> 33\u001b[0m     \u001b[38;5;28;01mif\u001b[39;00m cv2\u001b[38;5;241m.\u001b[39mwaitKey(\u001b[38;5;241m1\u001b[39m) \u001b[38;5;241m&\u001b[39m \u001b[38;5;241m0xFF\u001b[39m \u001b[38;5;241m==\u001b[39m \u001b[38;5;28mord\u001b[39m(\u001b[38;5;124m'\u001b[39m\u001b[38;5;124mq\u001b[39m\u001b[38;5;124m'\u001b[39m):\n\u001b[1;32m     34\u001b[0m         \u001b[38;5;28;01mbreak\u001b[39;00m\n\u001b[1;32m     36\u001b[0m \u001b[38;5;66;03m# Release the video capture and close windows\u001b[39;00m\n",
      "\u001b[0;31mKeyboardInterrupt\u001b[0m: "
     ]
    }
   ],
   "source": [
    "# The fish video vizualization function can be used in the following way\n",
    "Viz_fish_vid('mots/129_1_clean.txt','vids/129_1.mp4')"
   ]
  },
  {
   "cell_type": "markdown",
   "id": "f428e480",
   "metadata": {},
   "source": [
    "The video seen from the code above is the desired output form from the single-view multiple object tracking models. This will then be used in the proposed framework. "
   ]
  },
  {
   "cell_type": "markdown",
   "id": "bf15d56d",
   "metadata": {},
   "source": [
    "### Camera Data analysis"
   ]
  },
  {
   "cell_type": "markdown",
   "id": "9953919e",
   "metadata": {},
   "source": [
    "For the stereo/multi view approach we need to see how the data from the mots of the same video taken from two different camera compare and can be used together in combination with the raw camera data. The camera data can be loaded in from a .mat file. This .mat file is slighlty different per pair of videos as the camera have been adjusted during the recording of the videos."
   ]
  },
  {
   "cell_type": "code",
   "execution_count": 4,
   "id": "0a086e14",
   "metadata": {},
   "outputs": [
    {
     "name": "stdout",
     "output_type": "stream",
     "text": [
      "{'__header__': b'MATLAB 5.0 MAT-file, Platform: PCWIN64, Created on: Thu Apr 20 12:47:29 2023', '__version__': '1.0', '__globals__': [], 'distortionCoefficients1': array([[-0.1151452 ,  0.12529796,  0.        ,  0.        , -0.0226769 ]]), 'distortionCoefficients2': array([[-0.11311397,  0.12688477,  0.        ,  0.        , -0.02580862]]), 'intrinsicMatrix1': array([[1.17747897e+03, 0.00000000e+00, 9.56279114e+02],\n",
      "       [0.00000000e+00, 1.17756284e+03, 5.50658875e+02],\n",
      "       [0.00000000e+00, 0.00000000e+00, 1.00000000e+00]]), 'intrinsicMatrix2': array([[1.17642824e+03, 0.00000000e+00, 9.48940217e+02],\n",
      "       [0.00000000e+00, 1.17576432e+03, 5.44653278e+02],\n",
      "       [0.00000000e+00, 0.00000000e+00, 1.00000000e+00]]), 'rotationOfCamera2': array([[ 0.99208144, -0.02742666,  0.12256508],\n",
      "       [ 0.02511933,  0.99947769,  0.02033133],\n",
      "       [-0.12305869, -0.01709159,  0.9922522 ]]), 'None': MatlabOpaque([(b'stereoParams', b'MCOS', b'stereoParameters', array([[3707764736],\n",
      "                     [         2],\n",
      "                     [         1],\n",
      "                     [         1],\n",
      "                     [         1],\n",
      "                     [         4]], dtype=uint32))                                ],\n",
      "             dtype=[('s0', 'O'), ('s1', 'O'), ('s2', 'O'), ('arr', 'O')]), 'translationOfCamera2': array([[-472.83816279,   12.71455729,  -25.84282812]]), '__function_workspace__': array([[ 0,  1, 73, ...,  0,  0,  0]], dtype=uint8)}\n"
     ]
    }
   ],
   "source": [
    "# Load the .mat file\n",
    "data = loadmat('stereoParams_Dep4.mat')\n",
    "\n",
    "# Display the contents of the .mat file\n",
    "print(data)"
   ]
  },
  {
   "cell_type": "markdown",
   "id": "6821f2c1",
   "metadata": {},
   "source": [
    "Cleaning this up a bit and making it more visually appealing gives us the following read outs for the video pair of 129_1 and 129_2."
   ]
  },
  {
   "cell_type": "code",
   "execution_count": 9,
   "id": "dad34918",
   "metadata": {},
   "outputs": [
    {
     "name": "stdout",
     "output_type": "stream",
     "text": [
      "distortion_coefficients_1:  [[-0.1151452   0.12529796  0.          0.         -0.0226769 ]]\n",
      "--------------------------------------------------------------------------------------------------------\n",
      "distortion_coefficients_2:  [[-0.11311397  0.12688477  0.          0.         -0.02580862]]\n",
      "--------------------------------------------------------------------------------------------------------\n",
      "intrinsic_matrix_1:  [[1.17747897e+03 0.00000000e+00 9.56279114e+02]\n",
      " [0.00000000e+00 1.17756284e+03 5.50658875e+02]\n",
      " [0.00000000e+00 0.00000000e+00 1.00000000e+00]]\n",
      "--------------------------------------------------------------------------------------------------------\n",
      "intrinsic_matrix_2:  [[1.17642824e+03 0.00000000e+00 9.48940217e+02]\n",
      " [0.00000000e+00 1.17576432e+03 5.44653278e+02]\n",
      " [0.00000000e+00 0.00000000e+00 1.00000000e+00]]\n",
      "--------------------------------------------------------------------------------------------------------\n",
      "rotationOfCamera2:  [[ 0.99208144 -0.02742666  0.12256508]\n",
      " [ 0.02511933  0.99947769  0.02033133]\n",
      " [-0.12305869 -0.01709159  0.9922522 ]]\n",
      "--------------------------------------------------------------------------------------------------------\n",
      "translationOfCamera2:  [[-472.83816279   12.71455729  -25.84282812]]\n"
     ]
    }
   ],
   "source": [
    "# Extract the arrays\n",
    "distortion_coefficients_1 = data['distortionCoefficients1']\n",
    "distortion_coefficients_2 = data['distortionCoefficients2']\n",
    "\n",
    "intrinsic_matrix_1 = data['intrinsicMatrix1']\n",
    "intrinsic_matrix_2 = data['intrinsicMatrix2']\n",
    "\n",
    "rotationOfCamera2 = data['rotationOfCamera2']\n",
    "translationOfCamera2 = data['translationOfCamera2']\n",
    "\n",
    "print(\"distortion_coefficients_1: \",distortion_coefficients_1)\n",
    "print(\"--------------------------------------------------------------------------------------------------------\")\n",
    "print(\"distortion_coefficients_2: \",distortion_coefficients_2)\n",
    "print(\"--------------------------------------------------------------------------------------------------------\")\n",
    "print(\"intrinsic_matrix_1: \",intrinsic_matrix_1)\n",
    "print(\"--------------------------------------------------------------------------------------------------------\")\n",
    "print(\"intrinsic_matrix_2: \",intrinsic_matrix_2)\n",
    "print(\"--------------------------------------------------------------------------------------------------------\")\n",
    "print(\"rotationOfCamera2: \",rotationOfCamera2)\n",
    "print(\"--------------------------------------------------------------------------------------------------------\")\n",
    "print(\"translationOfCamera2: \",translationOfCamera2)"
   ]
  },
  {
   "cell_type": "markdown",
   "id": "10a86d8d",
   "metadata": {},
   "source": [
    "### Multi-View Data analysis - Mot pair differences"
   ]
  },
  {
   "cell_type": "markdown",
   "id": "023f5de1",
   "metadata": {},
   "source": [
    "Before embarking on the challenge of using the single views to create a multi view using reprojection a small analysis is made of the data between two pairs of mots to see if any correlations can be found or other interesting statistics."
   ]
  },
  {
   "cell_type": "code",
   "execution_count": 31,
   "id": "3ba0fa21",
   "metadata": {},
   "outputs": [
    {
     "name": "stdout",
     "output_type": "stream",
     "text": [
      "129_1\n"
     ]
    },
    {
     "data": {
      "text/html": [
       "<div>\n",
       "<style scoped>\n",
       "    .dataframe tbody tr th:only-of-type {\n",
       "        vertical-align: middle;\n",
       "    }\n",
       "\n",
       "    .dataframe tbody tr th {\n",
       "        vertical-align: top;\n",
       "    }\n",
       "\n",
       "    .dataframe thead th {\n",
       "        text-align: right;\n",
       "    }\n",
       "</style>\n",
       "<table border=\"1\" class=\"dataframe\">\n",
       "  <thead>\n",
       "    <tr style=\"text-align: right;\">\n",
       "      <th></th>\n",
       "      <th>frame</th>\n",
       "      <th>id</th>\n",
       "      <th>x</th>\n",
       "      <th>y</th>\n",
       "      <th>x_offset</th>\n",
       "      <th>y_offset</th>\n",
       "    </tr>\n",
       "  </thead>\n",
       "  <tbody>\n",
       "    <tr>\n",
       "      <th>0</th>\n",
       "      <td>1</td>\n",
       "      <td>1</td>\n",
       "      <td>1212.98</td>\n",
       "      <td>416.74</td>\n",
       "      <td>26.04</td>\n",
       "      <td>14.37</td>\n",
       "    </tr>\n",
       "    <tr>\n",
       "      <th>1</th>\n",
       "      <td>1</td>\n",
       "      <td>2</td>\n",
       "      <td>1151.14</td>\n",
       "      <td>415.00</td>\n",
       "      <td>27.58</td>\n",
       "      <td>10.34</td>\n",
       "    </tr>\n",
       "    <tr>\n",
       "      <th>2</th>\n",
       "      <td>1</td>\n",
       "      <td>3</td>\n",
       "      <td>1487.32</td>\n",
       "      <td>431.94</td>\n",
       "      <td>17.38</td>\n",
       "      <td>19.86</td>\n",
       "    </tr>\n",
       "    <tr>\n",
       "      <th>3</th>\n",
       "      <td>1</td>\n",
       "      <td>4</td>\n",
       "      <td>1080.11</td>\n",
       "      <td>337.38</td>\n",
       "      <td>18.68</td>\n",
       "      <td>6.46</td>\n",
       "    </tr>\n",
       "    <tr>\n",
       "      <th>4</th>\n",
       "      <td>1</td>\n",
       "      <td>5</td>\n",
       "      <td>1220.90</td>\n",
       "      <td>325.30</td>\n",
       "      <td>21.28</td>\n",
       "      <td>10.54</td>\n",
       "    </tr>\n",
       "    <tr>\n",
       "      <th>...</th>\n",
       "      <td>...</td>\n",
       "      <td>...</td>\n",
       "      <td>...</td>\n",
       "      <td>...</td>\n",
       "      <td>...</td>\n",
       "      <td>...</td>\n",
       "    </tr>\n",
       "    <tr>\n",
       "      <th>30196</th>\n",
       "      <td>3117</td>\n",
       "      <td>5</td>\n",
       "      <td>1011.60</td>\n",
       "      <td>235.99</td>\n",
       "      <td>10.38</td>\n",
       "      <td>22.01</td>\n",
       "    </tr>\n",
       "    <tr>\n",
       "      <th>30197</th>\n",
       "      <td>3117</td>\n",
       "      <td>6</td>\n",
       "      <td>1304.99</td>\n",
       "      <td>217.40</td>\n",
       "      <td>15.01</td>\n",
       "      <td>24.80</td>\n",
       "    </tr>\n",
       "    <tr>\n",
       "      <th>30198</th>\n",
       "      <td>3117</td>\n",
       "      <td>7</td>\n",
       "      <td>969.60</td>\n",
       "      <td>489.40</td>\n",
       "      <td>23.90</td>\n",
       "      <td>16.40</td>\n",
       "    </tr>\n",
       "    <tr>\n",
       "      <th>30199</th>\n",
       "      <td>3117</td>\n",
       "      <td>8</td>\n",
       "      <td>1037.36</td>\n",
       "      <td>245.93</td>\n",
       "      <td>14.89</td>\n",
       "      <td>29.79</td>\n",
       "    </tr>\n",
       "    <tr>\n",
       "      <th>30200</th>\n",
       "      <td>3117</td>\n",
       "      <td>9</td>\n",
       "      <td>1103.97</td>\n",
       "      <td>670.34</td>\n",
       "      <td>22.04</td>\n",
       "      <td>25.01</td>\n",
       "    </tr>\n",
       "  </tbody>\n",
       "</table>\n",
       "<p>30201 rows × 6 columns</p>\n",
       "</div>"
      ],
      "text/plain": [
       "       frame  id        x       y  x_offset  y_offset\n",
       "0          1   1  1212.98  416.74     26.04     14.37\n",
       "1          1   2  1151.14  415.00     27.58     10.34\n",
       "2          1   3  1487.32  431.94     17.38     19.86\n",
       "3          1   4  1080.11  337.38     18.68      6.46\n",
       "4          1   5  1220.90  325.30     21.28     10.54\n",
       "...      ...  ..      ...     ...       ...       ...\n",
       "30196   3117   5  1011.60  235.99     10.38     22.01\n",
       "30197   3117   6  1304.99  217.40     15.01     24.80\n",
       "30198   3117   7   969.60  489.40     23.90     16.40\n",
       "30199   3117   8  1037.36  245.93     14.89     29.79\n",
       "30200   3117   9  1103.97  670.34     22.04     25.01\n",
       "\n",
       "[30201 rows x 6 columns]"
      ]
     },
     "metadata": {},
     "output_type": "display_data"
    },
    {
     "name": "stdout",
     "output_type": "stream",
     "text": [
      "129_2\n"
     ]
    },
    {
     "data": {
      "text/html": [
       "<div>\n",
       "<style scoped>\n",
       "    .dataframe tbody tr th:only-of-type {\n",
       "        vertical-align: middle;\n",
       "    }\n",
       "\n",
       "    .dataframe tbody tr th {\n",
       "        vertical-align: top;\n",
       "    }\n",
       "\n",
       "    .dataframe thead th {\n",
       "        text-align: right;\n",
       "    }\n",
       "</style>\n",
       "<table border=\"1\" class=\"dataframe\">\n",
       "  <thead>\n",
       "    <tr style=\"text-align: right;\">\n",
       "      <th></th>\n",
       "      <th>frame</th>\n",
       "      <th>id</th>\n",
       "      <th>x</th>\n",
       "      <th>y</th>\n",
       "      <th>x_offset</th>\n",
       "      <th>y_offset</th>\n",
       "    </tr>\n",
       "  </thead>\n",
       "  <tbody>\n",
       "    <tr>\n",
       "      <th>0</th>\n",
       "      <td>1</td>\n",
       "      <td>1</td>\n",
       "      <td>1010.39</td>\n",
       "      <td>357.55</td>\n",
       "      <td>21.50</td>\n",
       "      <td>7.74</td>\n",
       "    </tr>\n",
       "    <tr>\n",
       "      <th>1</th>\n",
       "      <td>1</td>\n",
       "      <td>2</td>\n",
       "      <td>1151.46</td>\n",
       "      <td>337.71</td>\n",
       "      <td>20.11</td>\n",
       "      <td>17.63</td>\n",
       "    </tr>\n",
       "    <tr>\n",
       "      <th>2</th>\n",
       "      <td>1</td>\n",
       "      <td>3</td>\n",
       "      <td>1173.87</td>\n",
       "      <td>341.47</td>\n",
       "      <td>11.20</td>\n",
       "      <td>12.02</td>\n",
       "    </tr>\n",
       "    <tr>\n",
       "      <th>3</th>\n",
       "      <td>1</td>\n",
       "      <td>4</td>\n",
       "      <td>1446.30</td>\n",
       "      <td>460.60</td>\n",
       "      <td>19.11</td>\n",
       "      <td>20.90</td>\n",
       "    </tr>\n",
       "    <tr>\n",
       "      <th>4</th>\n",
       "      <td>1</td>\n",
       "      <td>5</td>\n",
       "      <td>1066.87</td>\n",
       "      <td>626.29</td>\n",
       "      <td>48.07</td>\n",
       "      <td>6.87</td>\n",
       "    </tr>\n",
       "    <tr>\n",
       "      <th>...</th>\n",
       "      <td>...</td>\n",
       "      <td>...</td>\n",
       "      <td>...</td>\n",
       "      <td>...</td>\n",
       "      <td>...</td>\n",
       "      <td>...</td>\n",
       "    </tr>\n",
       "    <tr>\n",
       "      <th>30644</th>\n",
       "      <td>3118</td>\n",
       "      <td>5</td>\n",
       "      <td>949.07</td>\n",
       "      <td>696.08</td>\n",
       "      <td>23.25</td>\n",
       "      <td>33.30</td>\n",
       "    </tr>\n",
       "    <tr>\n",
       "      <th>30645</th>\n",
       "      <td>3118</td>\n",
       "      <td>6</td>\n",
       "      <td>1067.44</td>\n",
       "      <td>288.15</td>\n",
       "      <td>38.96</td>\n",
       "      <td>21.85</td>\n",
       "    </tr>\n",
       "    <tr>\n",
       "      <th>30646</th>\n",
       "      <td>3118</td>\n",
       "      <td>7</td>\n",
       "      <td>1188.06</td>\n",
       "      <td>193.33</td>\n",
       "      <td>33.94</td>\n",
       "      <td>17.14</td>\n",
       "    </tr>\n",
       "    <tr>\n",
       "      <th>30647</th>\n",
       "      <td>3118</td>\n",
       "      <td>8</td>\n",
       "      <td>883.91</td>\n",
       "      <td>514.11</td>\n",
       "      <td>25.29</td>\n",
       "      <td>14.69</td>\n",
       "    </tr>\n",
       "    <tr>\n",
       "      <th>30648</th>\n",
       "      <td>3118</td>\n",
       "      <td>9</td>\n",
       "      <td>934.50</td>\n",
       "      <td>265.34</td>\n",
       "      <td>14.50</td>\n",
       "      <td>25.66</td>\n",
       "    </tr>\n",
       "  </tbody>\n",
       "</table>\n",
       "<p>30649 rows × 6 columns</p>\n",
       "</div>"
      ],
      "text/plain": [
       "       frame  id        x       y  x_offset  y_offset\n",
       "0          1   1  1010.39  357.55     21.50      7.74\n",
       "1          1   2  1151.46  337.71     20.11     17.63\n",
       "2          1   3  1173.87  341.47     11.20     12.02\n",
       "3          1   4  1446.30  460.60     19.11     20.90\n",
       "4          1   5  1066.87  626.29     48.07      6.87\n",
       "...      ...  ..      ...     ...       ...       ...\n",
       "30644   3118   5   949.07  696.08     23.25     33.30\n",
       "30645   3118   6  1067.44  288.15     38.96     21.85\n",
       "30646   3118   7  1188.06  193.33     33.94     17.14\n",
       "30647   3118   8   883.91  514.11     25.29     14.69\n",
       "30648   3118   9   934.50  265.34     14.50     25.66\n",
       "\n",
       "[30649 rows x 6 columns]"
      ]
     },
     "metadata": {},
     "output_type": "display_data"
    }
   ],
   "source": [
    "# Loading mot data of video pair 129\n",
    "csv_path_129_1 = 'mots/129_1_clean.txt'\n",
    "df_129_1 = pd.read_csv(csv_path_129_1)\n",
    "print(\"129_1\")\n",
    "display(df_129_1)\n",
    "\n",
    "csv_path_129_2 = 'mots/129_2_clean.txt'\n",
    "df_129_2 = pd.read_csv(csv_path_129_2)\n",
    "print(\"129_2\")\n",
    "display(df_129_2)"
   ]
  },
  {
   "cell_type": "markdown",
   "id": "fe5bb2e1",
   "metadata": {},
   "source": [
    "It becomes clear that the amount of rows is not the same for both dataframes and neither is the amount of frames. The code below demonstrates this more clearly."
   ]
  },
  {
   "cell_type": "code",
   "execution_count": 32,
   "id": "d16f60a6",
   "metadata": {},
   "outputs": [
    {
     "name": "stdout",
     "output_type": "stream",
     "text": [
      "df_129_1 rows: 30201\n",
      "df_129_2 rows: 30649\n",
      "Difference rows: 448\n",
      "Number of frames 129_1:  3117\n",
      "Number of frames 129_2:  3118\n",
      "Difference in number of frames: 1\n"
     ]
    }
   ],
   "source": [
    "print(\"df_129_1 rows:\",len(df_129_1))\n",
    "print(\"df_129_2 rows:\",len(df_129_2))\n",
    "print(\"Difference rows:\",len(df_129_2) - len(df_129_1))\n",
    "print(\"Number of frames 129_1: \",df_129_1['frame'].max())\n",
    "print(\"Number of frames 129_2: \",df_129_2['frame'].max())\n",
    "print(\"Difference in number of frames:\",df_129_2['frame'].max() - df_129_1['frame'].max() )"
   ]
  },
  {
   "cell_type": "markdown",
   "id": "5691f8c1",
   "metadata": {},
   "source": [
    "In order to be able to compare the coordinates of the subject between the two mots they first need to be of the same length. This means removing the frame 3118 from 129_2 as this is not in 129_1."
   ]
  },
  {
   "cell_type": "code",
   "execution_count": 33,
   "id": "233816d3",
   "metadata": {},
   "outputs": [
    {
     "data": {
      "text/html": [
       "<div>\n",
       "<style scoped>\n",
       "    .dataframe tbody tr th:only-of-type {\n",
       "        vertical-align: middle;\n",
       "    }\n",
       "\n",
       "    .dataframe tbody tr th {\n",
       "        vertical-align: top;\n",
       "    }\n",
       "\n",
       "    .dataframe thead th {\n",
       "        text-align: right;\n",
       "    }\n",
       "</style>\n",
       "<table border=\"1\" class=\"dataframe\">\n",
       "  <thead>\n",
       "    <tr style=\"text-align: right;\">\n",
       "      <th></th>\n",
       "      <th>frame</th>\n",
       "      <th>id</th>\n",
       "      <th>x</th>\n",
       "      <th>y</th>\n",
       "      <th>x_offset</th>\n",
       "      <th>y_offset</th>\n",
       "    </tr>\n",
       "  </thead>\n",
       "  <tbody>\n",
       "    <tr>\n",
       "      <th>0</th>\n",
       "      <td>1</td>\n",
       "      <td>1</td>\n",
       "      <td>1010.39</td>\n",
       "      <td>357.55</td>\n",
       "      <td>21.50</td>\n",
       "      <td>7.74</td>\n",
       "    </tr>\n",
       "    <tr>\n",
       "      <th>1</th>\n",
       "      <td>1</td>\n",
       "      <td>2</td>\n",
       "      <td>1151.46</td>\n",
       "      <td>337.71</td>\n",
       "      <td>20.11</td>\n",
       "      <td>17.63</td>\n",
       "    </tr>\n",
       "    <tr>\n",
       "      <th>2</th>\n",
       "      <td>1</td>\n",
       "      <td>3</td>\n",
       "      <td>1173.87</td>\n",
       "      <td>341.47</td>\n",
       "      <td>11.20</td>\n",
       "      <td>12.02</td>\n",
       "    </tr>\n",
       "    <tr>\n",
       "      <th>3</th>\n",
       "      <td>1</td>\n",
       "      <td>4</td>\n",
       "      <td>1446.30</td>\n",
       "      <td>460.60</td>\n",
       "      <td>19.11</td>\n",
       "      <td>20.90</td>\n",
       "    </tr>\n",
       "    <tr>\n",
       "      <th>4</th>\n",
       "      <td>1</td>\n",
       "      <td>5</td>\n",
       "      <td>1066.87</td>\n",
       "      <td>626.29</td>\n",
       "      <td>48.07</td>\n",
       "      <td>6.87</td>\n",
       "    </tr>\n",
       "    <tr>\n",
       "      <th>...</th>\n",
       "      <td>...</td>\n",
       "      <td>...</td>\n",
       "      <td>...</td>\n",
       "      <td>...</td>\n",
       "      <td>...</td>\n",
       "      <td>...</td>\n",
       "    </tr>\n",
       "    <tr>\n",
       "      <th>30631</th>\n",
       "      <td>3117</td>\n",
       "      <td>5</td>\n",
       "      <td>949.31</td>\n",
       "      <td>695.49</td>\n",
       "      <td>23.25</td>\n",
       "      <td>33.30</td>\n",
       "    </tr>\n",
       "    <tr>\n",
       "      <th>30632</th>\n",
       "      <td>3117</td>\n",
       "      <td>6</td>\n",
       "      <td>1067.70</td>\n",
       "      <td>288.24</td>\n",
       "      <td>38.71</td>\n",
       "      <td>22.07</td>\n",
       "    </tr>\n",
       "    <tr>\n",
       "      <th>30633</th>\n",
       "      <td>3117</td>\n",
       "      <td>7</td>\n",
       "      <td>1188.23</td>\n",
       "      <td>193.35</td>\n",
       "      <td>33.94</td>\n",
       "      <td>17.14</td>\n",
       "    </tr>\n",
       "    <tr>\n",
       "      <th>30634</th>\n",
       "      <td>3117</td>\n",
       "      <td>8</td>\n",
       "      <td>884.05</td>\n",
       "      <td>514.07</td>\n",
       "      <td>25.20</td>\n",
       "      <td>14.79</td>\n",
       "    </tr>\n",
       "    <tr>\n",
       "      <th>30635</th>\n",
       "      <td>3117</td>\n",
       "      <td>9</td>\n",
       "      <td>934.44</td>\n",
       "      <td>265.60</td>\n",
       "      <td>14.53</td>\n",
       "      <td>25.76</td>\n",
       "    </tr>\n",
       "  </tbody>\n",
       "</table>\n",
       "<p>30636 rows × 6 columns</p>\n",
       "</div>"
      ],
      "text/plain": [
       "       frame  id        x       y  x_offset  y_offset\n",
       "0          1   1  1010.39  357.55     21.50      7.74\n",
       "1          1   2  1151.46  337.71     20.11     17.63\n",
       "2          1   3  1173.87  341.47     11.20     12.02\n",
       "3          1   4  1446.30  460.60     19.11     20.90\n",
       "4          1   5  1066.87  626.29     48.07      6.87\n",
       "...      ...  ..      ...     ...       ...       ...\n",
       "30631   3117   5   949.31  695.49     23.25     33.30\n",
       "30632   3117   6  1067.70  288.24     38.71     22.07\n",
       "30633   3117   7  1188.23  193.35     33.94     17.14\n",
       "30634   3117   8   884.05  514.07     25.20     14.79\n",
       "30635   3117   9   934.44  265.60     14.53     25.76\n",
       "\n",
       "[30636 rows x 6 columns]"
      ]
     },
     "metadata": {},
     "output_type": "display_data"
    }
   ],
   "source": [
    "df_129_2 = df_129_2[df_129_2['frame'] != 3118]\n",
    "display(df_129_2)"
   ]
  },
  {
   "cell_type": "markdown",
   "id": "3f4606fb",
   "metadata": {},
   "source": [
    "It is still clear that the amount of rows is not equal. This means that in 129_2 potentially more fish are being identified and tracked then in 129_1. "
   ]
  },
  {
   "cell_type": "code",
   "execution_count": 44,
   "id": "f5ccd7f8",
   "metadata": {},
   "outputs": [
    {
     "name": "stdout",
     "output_type": "stream",
     "text": [
      "Amount of frame-id combinations from 129_2 that are not in 129_1:  3241\n",
      "\n",
      "\n",
      "Amount of frame-id combinations from 129_1 that are not in 129_2:  2806\n",
      "\n",
      "\n",
      "Frames where the number of ids is not equal between the two dataframes:\n",
      "      frame  id_129_1  id_129_2\n",
      "316     317         8         9\n",
      "317     318         8         9\n",
      "318     319         8         9\n",
      "319     320         8         9\n",
      "320     321         8         9\n",
      "...     ...       ...       ...\n",
      "2862   2863        11        12\n",
      "2863   2864        11        12\n",
      "2864   2865        11        12\n",
      "2865   2866        11        12\n",
      "2916   2917        13        12\n",
      "\n",
      "[481 rows x 3 columns]\n",
      "Amount of frames with a mismatch in the amount of ids:  481\n"
     ]
    }
   ],
   "source": [
    "df1_check = df_129_1\n",
    "df2_check = df_129_2\n",
    "\n",
    "# Find frame id combinations in df2 that are not in df1\n",
    "frame_id_combinations_df2_not_in_df1 = set(zip(df2_check['frame'], df2_check['id'])) - set(zip(df1_check['frame'], df1_check['id']))\n",
    "\n",
    "print(\"Amount of frame-id combinations from 129_2 that are not in 129_1: \",len(frame_id_combinations_df2_not_in_df1))\n",
    "print('\\n')\n",
    "\n",
    "# Find frame id combinations in df1 that are not in df2\n",
    "frame_id_combinations_df1_not_in_df2 = set(zip(df1_check['frame'], df1_check['id'])) - set(zip(df2_check['frame'], df2_check['id']))\n",
    "\n",
    "print(\"Amount of frame-id combinations from 129_1 that are not in 129_2: \",len(frame_id_combinations_df1_not_in_df2))\n",
    "print('\\n')\n",
    "\n",
    "\n",
    "# Count unique ids per frame in each dataframe\n",
    "df1_id_counts = df1_check.groupby('frame')['id'].nunique().reset_index()\n",
    "df2_id_counts = df2_check.groupby('frame')['id'].nunique().reset_index()\n",
    "\n",
    "# Merge the two dataframes on 'frame' to compare\n",
    "comparison_df = pd.merge(df1_id_counts, df2_id_counts, on='frame', suffixes=('_129_1', '_129_2'), how='outer')\n",
    "\n",
    "# Find frames where the number of ids is not equal between the two dataframes\n",
    "frames_with_different_id_counts = comparison_df[comparison_df['id_129_1'] != comparison_df['id_129_2']]\n",
    "\n",
    "print(\"Frames where the number of ids is not equal between the two dataframes:\")\n",
    "print(frames_with_different_id_counts)\n",
    "print(\"Amount of frames with a mismatch in the amount of ids: \",len(frames_with_different_id_counts))"
   ]
  },
  {
   "cell_type": "markdown",
   "id": "fb15603a",
   "metadata": {},
   "source": [
    "It now becomes clear that there are fish being tracked in 129_2 that are not being tracked in 129_1 and vice versa. "
   ]
  },
  {
   "cell_type": "markdown",
   "id": "5ee9873e",
   "metadata": {},
   "source": [
    "### Coordinate comparison analysis"
   ]
  },
  {
   "cell_type": "markdown",
   "id": "d572ee41",
   "metadata": {},
   "source": [
    "We will take a random frame say frame 1 and see how the x and y coordinates between the two mot files differ and if any correlation can be found between them."
   ]
  },
  {
   "cell_type": "code",
   "execution_count": 45,
   "id": "be2004d9",
   "metadata": {},
   "outputs": [
    {
     "data": {
      "text/html": [
       "<div>\n",
       "<style scoped>\n",
       "    .dataframe tbody tr th:only-of-type {\n",
       "        vertical-align: middle;\n",
       "    }\n",
       "\n",
       "    .dataframe tbody tr th {\n",
       "        vertical-align: top;\n",
       "    }\n",
       "\n",
       "    .dataframe thead th {\n",
       "        text-align: right;\n",
       "    }\n",
       "</style>\n",
       "<table border=\"1\" class=\"dataframe\">\n",
       "  <thead>\n",
       "    <tr style=\"text-align: right;\">\n",
       "      <th></th>\n",
       "      <th>frame</th>\n",
       "      <th>id</th>\n",
       "      <th>x</th>\n",
       "      <th>y</th>\n",
       "      <th>x_offset</th>\n",
       "      <th>y_offset</th>\n",
       "    </tr>\n",
       "  </thead>\n",
       "  <tbody>\n",
       "    <tr>\n",
       "      <th>0</th>\n",
       "      <td>1</td>\n",
       "      <td>1</td>\n",
       "      <td>1212.98</td>\n",
       "      <td>416.74</td>\n",
       "      <td>26.04</td>\n",
       "      <td>14.37</td>\n",
       "    </tr>\n",
       "    <tr>\n",
       "      <th>9</th>\n",
       "      <td>2</td>\n",
       "      <td>1</td>\n",
       "      <td>1212.98</td>\n",
       "      <td>416.70</td>\n",
       "      <td>25.70</td>\n",
       "      <td>14.69</td>\n",
       "    </tr>\n",
       "    <tr>\n",
       "      <th>18</th>\n",
       "      <td>3</td>\n",
       "      <td>1</td>\n",
       "      <td>1212.98</td>\n",
       "      <td>416.66</td>\n",
       "      <td>25.36</td>\n",
       "      <td>15.01</td>\n",
       "    </tr>\n",
       "    <tr>\n",
       "      <th>27</th>\n",
       "      <td>4</td>\n",
       "      <td>1</td>\n",
       "      <td>1212.98</td>\n",
       "      <td>416.61</td>\n",
       "      <td>25.02</td>\n",
       "      <td>15.34</td>\n",
       "    </tr>\n",
       "    <tr>\n",
       "      <th>36</th>\n",
       "      <td>5</td>\n",
       "      <td>1</td>\n",
       "      <td>1212.98</td>\n",
       "      <td>416.57</td>\n",
       "      <td>24.68</td>\n",
       "      <td>15.66</td>\n",
       "    </tr>\n",
       "    <tr>\n",
       "      <th>...</th>\n",
       "      <td>...</td>\n",
       "      <td>...</td>\n",
       "      <td>...</td>\n",
       "      <td>...</td>\n",
       "      <td>...</td>\n",
       "      <td>...</td>\n",
       "    </tr>\n",
       "    <tr>\n",
       "      <th>30141</th>\n",
       "      <td>3113</td>\n",
       "      <td>1</td>\n",
       "      <td>1200.52</td>\n",
       "      <td>271.62</td>\n",
       "      <td>29.70</td>\n",
       "      <td>16.85</td>\n",
       "    </tr>\n",
       "    <tr>\n",
       "      <th>30154</th>\n",
       "      <td>3114</td>\n",
       "      <td>1</td>\n",
       "      <td>1200.48</td>\n",
       "      <td>271.59</td>\n",
       "      <td>29.70</td>\n",
       "      <td>16.56</td>\n",
       "    </tr>\n",
       "    <tr>\n",
       "      <th>30167</th>\n",
       "      <td>3115</td>\n",
       "      <td>1</td>\n",
       "      <td>1200.44</td>\n",
       "      <td>271.56</td>\n",
       "      <td>29.70</td>\n",
       "      <td>16.27</td>\n",
       "    </tr>\n",
       "    <tr>\n",
       "      <th>30180</th>\n",
       "      <td>3116</td>\n",
       "      <td>1</td>\n",
       "      <td>1200.40</td>\n",
       "      <td>271.53</td>\n",
       "      <td>29.70</td>\n",
       "      <td>15.98</td>\n",
       "    </tr>\n",
       "    <tr>\n",
       "      <th>30193</th>\n",
       "      <td>3117</td>\n",
       "      <td>1</td>\n",
       "      <td>1200.36</td>\n",
       "      <td>271.50</td>\n",
       "      <td>29.70</td>\n",
       "      <td>15.69</td>\n",
       "    </tr>\n",
       "  </tbody>\n",
       "</table>\n",
       "<p>3117 rows × 6 columns</p>\n",
       "</div>"
      ],
      "text/plain": [
       "       frame  id        x       y  x_offset  y_offset\n",
       "0          1   1  1212.98  416.74     26.04     14.37\n",
       "9          2   1  1212.98  416.70     25.70     14.69\n",
       "18         3   1  1212.98  416.66     25.36     15.01\n",
       "27         4   1  1212.98  416.61     25.02     15.34\n",
       "36         5   1  1212.98  416.57     24.68     15.66\n",
       "...      ...  ..      ...     ...       ...       ...\n",
       "30141   3113   1  1200.52  271.62     29.70     16.85\n",
       "30154   3114   1  1200.48  271.59     29.70     16.56\n",
       "30167   3115   1  1200.44  271.56     29.70     16.27\n",
       "30180   3116   1  1200.40  271.53     29.70     15.98\n",
       "30193   3117   1  1200.36  271.50     29.70     15.69\n",
       "\n",
       "[3117 rows x 6 columns]"
      ]
     },
     "metadata": {},
     "output_type": "display_data"
    },
    {
     "data": {
      "text/html": [
       "<div>\n",
       "<style scoped>\n",
       "    .dataframe tbody tr th:only-of-type {\n",
       "        vertical-align: middle;\n",
       "    }\n",
       "\n",
       "    .dataframe tbody tr th {\n",
       "        vertical-align: top;\n",
       "    }\n",
       "\n",
       "    .dataframe thead th {\n",
       "        text-align: right;\n",
       "    }\n",
       "</style>\n",
       "<table border=\"1\" class=\"dataframe\">\n",
       "  <thead>\n",
       "    <tr style=\"text-align: right;\">\n",
       "      <th></th>\n",
       "      <th>frame</th>\n",
       "      <th>id</th>\n",
       "      <th>x</th>\n",
       "      <th>y</th>\n",
       "      <th>x_offset</th>\n",
       "      <th>y_offset</th>\n",
       "    </tr>\n",
       "  </thead>\n",
       "  <tbody>\n",
       "    <tr>\n",
       "      <th>0</th>\n",
       "      <td>1</td>\n",
       "      <td>1</td>\n",
       "      <td>1010.39</td>\n",
       "      <td>357.55</td>\n",
       "      <td>21.50</td>\n",
       "      <td>7.74</td>\n",
       "    </tr>\n",
       "    <tr>\n",
       "      <th>9</th>\n",
       "      <td>2</td>\n",
       "      <td>1</td>\n",
       "      <td>1010.38</td>\n",
       "      <td>357.49</td>\n",
       "      <td>21.50</td>\n",
       "      <td>7.74</td>\n",
       "    </tr>\n",
       "    <tr>\n",
       "      <th>18</th>\n",
       "      <td>3</td>\n",
       "      <td>1</td>\n",
       "      <td>1010.37</td>\n",
       "      <td>357.43</td>\n",
       "      <td>21.50</td>\n",
       "      <td>7.74</td>\n",
       "    </tr>\n",
       "    <tr>\n",
       "      <th>27</th>\n",
       "      <td>4</td>\n",
       "      <td>1</td>\n",
       "      <td>1010.37</td>\n",
       "      <td>357.37</td>\n",
       "      <td>21.49</td>\n",
       "      <td>7.74</td>\n",
       "    </tr>\n",
       "    <tr>\n",
       "      <th>36</th>\n",
       "      <td>5</td>\n",
       "      <td>1</td>\n",
       "      <td>1010.36</td>\n",
       "      <td>357.31</td>\n",
       "      <td>21.50</td>\n",
       "      <td>7.74</td>\n",
       "    </tr>\n",
       "    <tr>\n",
       "      <th>...</th>\n",
       "      <td>...</td>\n",
       "      <td>...</td>\n",
       "      <td>...</td>\n",
       "      <td>...</td>\n",
       "      <td>...</td>\n",
       "      <td>...</td>\n",
       "    </tr>\n",
       "    <tr>\n",
       "      <th>30576</th>\n",
       "      <td>3113</td>\n",
       "      <td>1</td>\n",
       "      <td>924.62</td>\n",
       "      <td>423.07</td>\n",
       "      <td>21.32</td>\n",
       "      <td>7.93</td>\n",
       "    </tr>\n",
       "    <tr>\n",
       "      <th>30589</th>\n",
       "      <td>3114</td>\n",
       "      <td>1</td>\n",
       "      <td>924.48</td>\n",
       "      <td>423.24</td>\n",
       "      <td>21.33</td>\n",
       "      <td>7.94</td>\n",
       "    </tr>\n",
       "    <tr>\n",
       "      <th>30602</th>\n",
       "      <td>3115</td>\n",
       "      <td>1</td>\n",
       "      <td>924.35</td>\n",
       "      <td>423.42</td>\n",
       "      <td>21.32</td>\n",
       "      <td>7.94</td>\n",
       "    </tr>\n",
       "    <tr>\n",
       "      <th>30615</th>\n",
       "      <td>3116</td>\n",
       "      <td>1</td>\n",
       "      <td>924.21</td>\n",
       "      <td>423.60</td>\n",
       "      <td>21.33</td>\n",
       "      <td>7.94</td>\n",
       "    </tr>\n",
       "    <tr>\n",
       "      <th>30628</th>\n",
       "      <td>3117</td>\n",
       "      <td>1</td>\n",
       "      <td>924.07</td>\n",
       "      <td>423.78</td>\n",
       "      <td>21.33</td>\n",
       "      <td>7.94</td>\n",
       "    </tr>\n",
       "  </tbody>\n",
       "</table>\n",
       "<p>3117 rows × 6 columns</p>\n",
       "</div>"
      ],
      "text/plain": [
       "       frame  id        x       y  x_offset  y_offset\n",
       "0          1   1  1010.39  357.55     21.50      7.74\n",
       "9          2   1  1010.38  357.49     21.50      7.74\n",
       "18         3   1  1010.37  357.43     21.50      7.74\n",
       "27         4   1  1010.37  357.37     21.49      7.74\n",
       "36         5   1  1010.36  357.31     21.50      7.74\n",
       "...      ...  ..      ...     ...       ...       ...\n",
       "30576   3113   1   924.62  423.07     21.32      7.93\n",
       "30589   3114   1   924.48  423.24     21.33      7.94\n",
       "30602   3115   1   924.35  423.42     21.32      7.94\n",
       "30615   3116   1   924.21  423.60     21.33      7.94\n",
       "30628   3117   1   924.07  423.78     21.33      7.94\n",
       "\n",
       "[3117 rows x 6 columns]"
      ]
     },
     "metadata": {},
     "output_type": "display_data"
    }
   ],
   "source": [
    "# Create a new DataFrame containing only rows with id equal to 1\n",
    "filtered_df_129_1 = df_129_1[df_129_1['id'] == 1]\n",
    "filtered_df_129_2 = df_129_2[df_129_2['id'] == 1]\n",
    "# Display the filtered DataFrames\n",
    "display(filtered_df_129_1)\n",
    "display(filtered_df_129_2)"
   ]
  },
  {
   "cell_type": "code",
   "execution_count": 70,
   "id": "088b26b0",
   "metadata": {},
   "outputs": [],
   "source": [
    "# Take all x values from 129_1\n",
    "x_129_1 = list(filtered_df_129_1['x'])\n",
    "# Take all x values from 129_2\n",
    "x_129_2 = list(filtered_df_129_2['x'])\n",
    "\n",
    "\n",
    "# Take all y values from 129_1\n",
    "y_129_1 = list(filtered_df_129_1['y'])\n",
    "# Take all y values from 129_2\n",
    "y_129_2 = list(filtered_df_129_2['y'])\n"
   ]
  },
  {
   "cell_type": "code",
   "execution_count": 51,
   "id": "87ec05c0",
   "metadata": {},
   "outputs": [
    {
     "name": "stdout",
     "output_type": "stream",
     "text": [
      "x correlation:  PearsonRResult(statistic=-0.6894547328209694, pvalue=0.0)\n",
      "y correlation:  PearsonRResult(statistic=-0.6385136573683774, pvalue=0.0)\n"
     ]
    }
   ],
   "source": [
    "# Check for correlation between x value between 129_1 and 129_2\n",
    "# Check for correlation between y value between 129_1 and 129_2\n",
    "# Convert lists to numpy arrays for easier computation\n",
    "x_129_1 = np.array(x_129_1)\n",
    "x_129_2 = np.array(x_129_2)\n",
    "\n",
    "y_129_1 = np.array(y_129_1)\n",
    "y_129_2 = np.array(y_129_2)\n",
    "\n",
    "# Calculate correlation coefficient\n",
    "correlation_coefficient_x = pearsonr(x_129_1, x_129_2)\n",
    "correlation_coefficient_y = pearsonr(y_129_1, y_129_2)\n",
    "\n",
    "print(\"x correlation: \", correlation_coefficient_x)\n",
    "print(\"y correlation: \", correlation_coefficient_y)"
   ]
  },
  {
   "cell_type": "markdown",
   "id": "fb152a74",
   "metadata": {},
   "source": [
    "This statistic measures the strength and direction of the linear relationship between two variables.\n",
    "The value of -0.689 for x correlation indicates a moderately strong negative linear correlation between 129_1 and 129_2.\n",
    "Similarly, the value of -0.639 for y correlation indicates a moderately strong negative linear correlation between 129_1 and 129_2."
   ]
  },
  {
   "cell_type": "code",
   "execution_count": 52,
   "id": "39887cd2",
   "metadata": {},
   "outputs": [
    {
     "name": "stdout",
     "output_type": "stream",
     "text": [
      "Average Difference x: 189.9059223612448\n",
      "Average Difference y: 152.43399101700354\n"
     ]
    }
   ],
   "source": [
    "# Check for average difference between x values \n",
    "# Check for average difference between y values\n",
    "\n",
    "# Calculate absolute differences between corresponding values\n",
    "absolute_differences_x = np.abs(x_129_1 - x_129_2)\n",
    "absolute_differences_y = np.abs(y_129_1 - y_129_2)\n",
    "\n",
    "# Calculate the average difference\n",
    "average_difference_x = np.mean(absolute_differences_x)\n",
    "average_difference_y = np.mean(absolute_differences_y)\n",
    "\n",
    "# Print the result\n",
    "print(\"Average Difference x:\", average_difference_x)\n",
    "print(\"Average Difference y:\", average_difference_y)"
   ]
  },
  {
   "cell_type": "code",
   "execution_count": 55,
   "id": "5a6e20ef",
   "metadata": {},
   "outputs": [
    {
     "name": "stdout",
     "output_type": "stream",
     "text": [
      "Coefficient of Determination (R-squared) x: -7.999065329418604\n",
      "Coefficient of Determination (R-squared) y: -3.050072449808442\n"
     ]
    }
   ],
   "source": [
    "# Calculate coefficient of determination (R-squared)\n",
    "r_squared_x = r2_score(x_129_1, x_129_2)\n",
    "r_squared_y = r2_score(y_129_1, y_129_2)\n",
    "print(\"Coefficient of Determination (R-squared) x:\", r_squared_x)\n",
    "print(\"Coefficient of Determination (R-squared) y:\", r_squared_y)"
   ]
  },
  {
   "cell_type": "markdown",
   "id": "6bf81d8e",
   "metadata": {},
   "source": [
    "R-squared measures the proportion of the variance in the dependent variable (129_1) that is predictable from the independent variable (129_2).\n",
    "Negative R-squared values can occur when the model fits the data worse than a horizontal line. This suggests that the model is not appropriate for the data.\n",
    "In this case, both x and y have negative R-squared values, indicating poor model fit."
   ]
  },
  {
   "cell_type": "code",
   "execution_count": 59,
   "id": "e27ef48c",
   "metadata": {},
   "outputs": [
    {
     "name": "stdout",
     "output_type": "stream",
     "text": [
      "Mean Squared Error (MSE) x: 45009.38477542508\n",
      "Mean Squared Error (MSE) y: 27863.54329518768\n"
     ]
    }
   ],
   "source": [
    "# Calculate mean squared error\n",
    "mse_x = mean_squared_error(x_129_1, x_129_2)\n",
    "mse_y = mean_squared_error(y_129_1, y_129_2)\n",
    "print(\"Mean Squared Error (MSE) x:\", mse_x)\n",
    "print(\"Mean Squared Error (MSE) y:\", mse_y)"
   ]
  },
  {
   "cell_type": "markdown",
   "id": "cc927bbf",
   "metadata": {},
   "source": [
    "The MSE values indicate the average squared difference between the predicted and actual values.\n",
    "A higher MSE suggests that the model has larger errors in prediction. Thus, both x and y models have relatively high errors."
   ]
  },
  {
   "cell_type": "code",
   "execution_count": 58,
   "id": "f725ca26",
   "metadata": {},
   "outputs": [
    {
     "name": "stdout",
     "output_type": "stream",
     "text": [
      "Mean Absolute Error (MAE) x: 189.9059223612448\n",
      "Mean Absolute Error (MAE) y: 152.43399101700354\n"
     ]
    }
   ],
   "source": [
    "# Calculate mean absolute error\n",
    "mae_x = mean_absolute_error(x_129_1, x_129_2)\n",
    "mae_y = mean_absolute_error(y_129_1, y_129_2)\n",
    "print(\"Mean Absolute Error (MAE) x:\", mae_x)\n",
    "print(\"Mean Absolute Error (MAE) y:\", mae_y)"
   ]
  },
  {
   "cell_type": "markdown",
   "id": "ae763ae8",
   "metadata": {},
   "source": [
    "The MAE values indicate the average absolute difference between the predicted and actual values.\n",
    "A lower MAE suggests that the model has smaller errors in prediction. Both x and y models have relatively low MAE, indicating they are better at predicting the outcome than if MSE was used."
   ]
  },
  {
   "cell_type": "code",
   "execution_count": 60,
   "id": "bb9d8180",
   "metadata": {},
   "outputs": [
    {
     "name": "stdout",
     "output_type": "stream",
     "text": [
      "Root Mean Squared Error (RMSE) x: 212.15415333060318\n",
      "Root Mean Squared Error (RMSE) y: 166.9237649203602\n"
     ]
    }
   ],
   "source": [
    "# Calculate root mean squared error (RMSE)\n",
    "rmse_x = np.sqrt(mse_x)\n",
    "rmse_y = np.sqrt(mse_y)\n",
    "print(\"Root Mean Squared Error (RMSE) x:\", rmse_x)\n",
    "print(\"Root Mean Squared Error (RMSE) y:\", rmse_y)"
   ]
  },
  {
   "cell_type": "markdown",
   "id": "c65f5d94",
   "metadata": {},
   "source": [
    "The RMSE values provide a measure of the standard deviation of the residuals, expressed in the same units as the predicted variable.\n",
    "A lower RMSE suggests that the model has smaller errors in prediction. Both x and y models have relatively low RMSE, indicating they are better at predicting the outcome compared to MSE."
   ]
  },
  {
   "cell_type": "code",
   "execution_count": 61,
   "id": "2cea1205",
   "metadata": {},
   "outputs": [
    {
     "name": "stdout",
     "output_type": "stream",
     "text": [
      "Bias x: 183.2196342637151\n",
      "Bias y: 133.4443920436317\n"
     ]
    }
   ],
   "source": [
    "# Calculate bias\n",
    "bias_x = np.mean(x_129_1 - x_129_2)\n",
    "bias_y = np.mean(y_129_1 - y_129_2)\n",
    "print(\"Bias x:\", bias_x)\n",
    "print(\"Bias y:\", bias_y)"
   ]
  },
  {
   "cell_type": "markdown",
   "id": "58060acc",
   "metadata": {},
   "source": [
    "Bias measures the systematic error in the predictions, indicating whether the model tends to underpredict or overpredict.\n",
    "A positive bias indicates that the model tends to overpredict, while a negative bias indicates that the model tends to underpredict.\n",
    "Both x and y models have positive bias, suggesting that they tend to overpredict the outcome."
   ]
  },
  {
   "cell_type": "code",
   "execution_count": 62,
   "id": "c2bfbd52",
   "metadata": {},
   "outputs": [
    {
     "name": "stdout",
     "output_type": "stream",
     "text": [
      "Variance x: 11439.950395695561\n",
      "Variance y: 10056.137527293207\n"
     ]
    }
   ],
   "source": [
    "# Calculate variance\n",
    "variance_x = np.var(x_129_1 - x_129_2)\n",
    "variance_y = np.var(y_129_1 - y_129_2)\n",
    "print(\"Variance x:\", variance_x)\n",
    "print(\"Variance y:\", variance_y)"
   ]
  },
  {
   "cell_type": "markdown",
   "id": "b36b0da5",
   "metadata": {},
   "source": [
    "Variance measures the variability of the predictions around the mean, indicating the spread of the predictions.\n",
    "A higher variance indicates that the predictions are more spread out from the mean, suggesting that the model may be sensitive to small changes in the training data.\n",
    "Both x and y models have relatively high variance, indicating that their predictions are spread out from the mean."
   ]
  },
  {
   "cell_type": "code",
   "execution_count": 63,
   "id": "05918db2",
   "metadata": {},
   "outputs": [
    {
     "data": {
      "image/png": "[encoded data removed]",
      "text/plain": [
       "<Figure size 800x600 with 1 Axes>"
      ]
     },
     "metadata": {},
     "output_type": "display_data"
    }
   ],
   "source": [
    "# Scatter Plot with Regression Line\n",
    "plt.figure(figsize=(8, 6))\n",
    "sns.regplot(x=x_129_1, y=x_129_2, ci=None)\n",
    "plt.title('Scatter Plot with Regression Line')\n",
    "plt.xlabel('x_129_1')\n",
    "plt.ylabel('x_129_2')\n",
    "plt.grid(True)\n",
    "plt.show()"
   ]
  },
  {
   "cell_type": "code",
   "execution_count": 64,
   "id": "7867aeef",
   "metadata": {},
   "outputs": [
    {
     "data": {
      "image/png": "[encoded data removed]",
      "text/plain": [
       "<Figure size 800x600 with 1 Axes>"
      ]
     },
     "metadata": {},
     "output_type": "display_data"
    }
   ],
   "source": [
    "# Scatter Plot with Regression Line\n",
    "plt.figure(figsize=(8, 6))\n",
    "sns.regplot(x=y_129_1, y=y_129_2, ci=None)\n",
    "plt.title('Scatter Plot with Regression Line')\n",
    "plt.xlabel('y_129_1')\n",
    "plt.ylabel('y_129_2')\n",
    "plt.grid(True)\n",
    "plt.show()"
   ]
  },
  {
   "cell_type": "code",
   "execution_count": 66,
   "id": "bd3229f7",
   "metadata": {},
   "outputs": [
    {
     "data": {
      "image/png": "[encoded data removed]",
      "text/plain": [
       "<Figure size 800x600 with 1 Axes>"
      ]
     },
     "metadata": {},
     "output_type": "display_data"
    }
   ],
   "source": [
    "# Residual Plot\n",
    "plt.figure(figsize=(8, 6))\n",
    "sns.residplot(x=x_129_1, y=x_129_2)\n",
    "plt.title('Residual Plot')\n",
    "plt.xlabel('x_129')\n",
    "plt.ylabel('Residuals')\n",
    "plt.grid(True)\n",
    "plt.show()"
   ]
  },
  {
   "cell_type": "code",
   "execution_count": 67,
   "id": "5e779b0c",
   "metadata": {},
   "outputs": [
    {
     "data": {
      "image/png": "[encoded data removed]",
      "text/plain": [
       "<Figure size 800x600 with 1 Axes>"
      ]
     },
     "metadata": {},
     "output_type": "display_data"
    }
   ],
   "source": [
    "# Residual Plot\n",
    "plt.figure(figsize=(8, 6))\n",
    "sns.residplot(x=y_129_1, y=y_129_2)\n",
    "plt.title('Residual Plot')\n",
    "plt.xlabel('y_129')\n",
    "plt.ylabel('Residuals')\n",
    "plt.grid(True)\n",
    "plt.show()"
   ]
  },
  {
   "cell_type": "code",
   "execution_count": 68,
   "id": "d4edf006",
   "metadata": {},
   "outputs": [
    {
     "data": {
      "image/png": "[encoded data removed]",
      "text/plain": [
       "<Figure size 800x600 with 1 Axes>"
      ]
     },
     "metadata": {},
     "output_type": "display_data"
    }
   ],
   "source": [
    "# Quantile-Quantile (Q-Q) Plot\n",
    "plt.figure(figsize=(8, 6))\n",
    "sns.set(style=\"whitegrid\")\n",
    "sns.residplot(x=x_129_1, y=x_129_2, lowess=True, line_kws={'color': 'red'})\n",
    "plt.title('Quantile-Quantile (Q-Q) Plot')\n",
    "plt.xlabel('Theoretical Quantiles')\n",
    "plt.ylabel('Sample Quantiles')\n",
    "plt.grid(True)\n",
    "plt.show()"
   ]
  },
  {
   "cell_type": "code",
   "execution_count": 69,
   "id": "3459d9fe",
   "metadata": {},
   "outputs": [
    {
     "data": {
      "image/png": "[encoded data removed]",
      "text/plain": [
       "<Figure size 800x600 with 1 Axes>"
      ]
     },
     "metadata": {},
     "output_type": "display_data"
    }
   ],
   "source": [
    "# Quantile-Quantile (Q-Q) Plot\n",
    "plt.figure(figsize=(8, 6))\n",
    "sns.set(style=\"whitegrid\")\n",
    "sns.residplot(x=y_129_1, y=y_129_2, lowess=True, line_kws={'color': 'red'})\n",
    "plt.title('Quantile-Quantile (Q-Q) Plot')\n",
    "plt.xlabel('Theoretical Quantiles')\n",
    "plt.ylabel('Sample Quantiles')\n",
    "plt.grid(True)\n",
    "plt.show()"
   ]
  },
  {
   "cell_type": "markdown",
   "id": "67df1cdb",
   "metadata": {},
   "source": [
    "## Conclusion\n",
    "\n",
    "we can conclude that the data in its original form needs to be cleaned up for usage. It is also necessary to make adjustments for video pairs as the number of frames is not always equal. Tracking data is also not always overlapping, some fish will be tracked in a given frame in video 1 but not video 2 and vice versa. This does allow for the prediction of tracking data for a video if the subject is tracked in the other video. The camera data also is extensive. Based on the statistics and graphs predicting the x or y coordinates of a tracked subject in video 1 for video 2 is not possible without using the x and y coordinates alone without taking the camera data into consideration. This also applies for leveraging the two to create a 3d view. The camera data is of high relevance and will be used when creating the algorithm to leverage the video feeds and try to predict tracking data."
   ]
  },
  {
   "cell_type": "code",
   "execution_count": null,
   "id": "2b3b4e8a",
   "metadata": {},
   "outputs": [],
   "source": []
  }
 ],
 "metadata": {
  "kernelspec": {
   "display_name": "Python 3 (ipykernel)",
   "language": "python",
   "name": "python3"
  },
  "language_info": {
   "codemirror_mode": {
    "name": "ipython",
    "version": 3
   },
   "file_extension": ".py",
   "mimetype": "text/x-python",
   "name": "python",
   "nbconvert_exporter": "python",
   "pygments_lexer": "ipython3",
   "version": "3.11.5"
  },
  "vscode": {
   "interpreter": {
    "hash": "f4bc7a400e35f160b13ed52195005e41b219907c1be09b125a1c17e685484faa"
   }
  }
 },
 "nbformat": 4,
 "nbformat_minor": 5
}
