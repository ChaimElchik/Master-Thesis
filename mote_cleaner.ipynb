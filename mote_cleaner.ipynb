{
 "cells": [
  {
   "cell_type": "code",
   "execution_count": 4,
   "id": "6168867b",
   "metadata": {},
   "outputs": [],
   "source": [
    "\n"
   ]
  },
  {
   "cell_type": "code",
   "execution_count": 5,
   "id": "6bdada29",
   "metadata": {},
   "outputs": [],
   "source": []
  },
  {
   "cell_type": "code",
   "execution_count": 7,
   "id": "553fd87b",
   "metadata": {},
   "outputs": [
    {
     "name": "stdout",
     "output_type": "stream",
     "text": [
      "Cleaned data saved to mots/129_2_clean.txt\n"
     ]
    }
   ],
   "source": [
    "def clean_file(input_file):\n",
    "    output_file = input_file.replace('.txt', '_clean.txt')\n",
    "\n",
    "    with open(input_file, 'r') as infile, open(output_file, 'w') as outfile:\n",
    "        # Write header to the output file\n",
    "        outfile.write(\"frame,id,x,y,x_offset,y_offset\\n\")\n",
    "\n",
    "        # Process each line of the input file\n",
    "        for line in infile:\n",
    "            # Split the line by commas\n",
    "            parts = line.strip().split(',')\n",
    "\n",
    "            # Extract relevant information and convert to desired format\n",
    "            frame = parts[0]\n",
    "            ID = parts[1]\n",
    "            x = float(parts[2])\n",
    "            y = float(parts[3])\n",
    "            x_offset = float(parts[4])\n",
    "            y_offset = float(parts[5])\n",
    "\n",
    "            # Write the cleaned data to the output file\n",
    "            outfile.write(f\"{frame},{ID},{x},{y},{x_offset},{y_offset}\\n\")\n",
    "\n",
    "    print(f\"Cleaned data saved to {output_file}\")\n",
    "\n",
    "# Example usage:\n",
    "clean_file('mots/129_2.txt')\n"
   ]
  },
  {
   "cell_type": "code",
   "execution_count": null,
   "id": "8d609657",
   "metadata": {},
   "outputs": [],
   "source": []
  }
 ],
 "metadata": {
  "kernelspec": {
   "display_name": "Python 3 (ipykernel)",
   "language": "python",
   "name": "python3"
  },
  "language_info": {
   "codemirror_mode": {
    "name": "ipython",
    "version": 3
   },
   "file_extension": ".py",
   "mimetype": "text/x-python",
   "name": "python",
   "nbconvert_exporter": "python",
   "pygments_lexer": "ipython3",
   "version": "3.11.5"
  }
 },
 "nbformat": 4,
 "nbformat_minor": 5
}
