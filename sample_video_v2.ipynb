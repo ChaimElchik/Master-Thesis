{
 "cells": [
  {
   "cell_type": "code",
   "execution_count": 1,
   "metadata": {
    "id": "n2Ioa_YQ7EWP"
   },
   "outputs": [],
   "source": [
    "import cv2\n",
    "import pandas as pd"
   ]
  },
  {
   "cell_type": "code",
   "execution_count": 5,
   "metadata": {
    "id": "UypREraW-cRl"
   },
   "outputs": [],
   "source": [
    "# Read the video file\n",
    "video_path = 'vids/129_1.mp4'\n",
    "cap = cv2.VideoCapture(video_path)\n",
    "\n",
    "# Read the bounding box coordinates from the CSV file\n",
    "csv_path = 'mots/129_1_clean.txt'\n",
    "df = pd.read_csv(csv_path)\n"
   ]
  },
  {
   "cell_type": "code",
   "execution_count": 6,
   "metadata": {},
   "outputs": [
    {
     "data": {
      "text/html": [
       "<div>\n",
       "<style scoped>\n",
       "    .dataframe tbody tr th:only-of-type {\n",
       "        vertical-align: middle;\n",
       "    }\n",
       "\n",
       "    .dataframe tbody tr th {\n",
       "        vertical-align: top;\n",
       "    }\n",
       "\n",
       "    .dataframe thead th {\n",
       "        text-align: right;\n",
       "    }\n",
       "</style>\n",
       "<table border=\"1\" class=\"dataframe\">\n",
       "  <thead>\n",
       "    <tr style=\"text-align: right;\">\n",
       "      <th></th>\n",
       "      <th>frame</th>\n",
       "      <th>id</th>\n",
       "      <th>x</th>\n",
       "      <th>y</th>\n",
       "      <th>x_offset</th>\n",
       "      <th>y_offset</th>\n",
       "    </tr>\n",
       "  </thead>\n",
       "  <tbody>\n",
       "    <tr>\n",
       "      <th>0</th>\n",
       "      <td>1</td>\n",
       "      <td>1</td>\n",
       "      <td>1212.98</td>\n",
       "      <td>416.74</td>\n",
       "      <td>26.04</td>\n",
       "      <td>14.37</td>\n",
       "    </tr>\n",
       "    <tr>\n",
       "      <th>1</th>\n",
       "      <td>1</td>\n",
       "      <td>2</td>\n",
       "      <td>1151.14</td>\n",
       "      <td>415.00</td>\n",
       "      <td>27.58</td>\n",
       "      <td>10.34</td>\n",
       "    </tr>\n",
       "    <tr>\n",
       "      <th>2</th>\n",
       "      <td>1</td>\n",
       "      <td>3</td>\n",
       "      <td>1487.32</td>\n",
       "      <td>431.94</td>\n",
       "      <td>17.38</td>\n",
       "      <td>19.86</td>\n",
       "    </tr>\n",
       "    <tr>\n",
       "      <th>3</th>\n",
       "      <td>1</td>\n",
       "      <td>4</td>\n",
       "      <td>1080.11</td>\n",
       "      <td>337.38</td>\n",
       "      <td>18.68</td>\n",
       "      <td>6.46</td>\n",
       "    </tr>\n",
       "    <tr>\n",
       "      <th>4</th>\n",
       "      <td>1</td>\n",
       "      <td>5</td>\n",
       "      <td>1220.90</td>\n",
       "      <td>325.30</td>\n",
       "      <td>21.28</td>\n",
       "      <td>10.54</td>\n",
       "    </tr>\n",
       "    <tr>\n",
       "      <th>...</th>\n",
       "      <td>...</td>\n",
       "      <td>...</td>\n",
       "      <td>...</td>\n",
       "      <td>...</td>\n",
       "      <td>...</td>\n",
       "      <td>...</td>\n",
       "    </tr>\n",
       "    <tr>\n",
       "      <th>30196</th>\n",
       "      <td>3117</td>\n",
       "      <td>5</td>\n",
       "      <td>1011.60</td>\n",
       "      <td>235.99</td>\n",
       "      <td>10.38</td>\n",
       "      <td>22.01</td>\n",
       "    </tr>\n",
       "    <tr>\n",
       "      <th>30197</th>\n",
       "      <td>3117</td>\n",
       "      <td>6</td>\n",
       "      <td>1304.99</td>\n",
       "      <td>217.40</td>\n",
       "      <td>15.01</td>\n",
       "      <td>24.80</td>\n",
       "    </tr>\n",
       "    <tr>\n",
       "      <th>30198</th>\n",
       "      <td>3117</td>\n",
       "      <td>7</td>\n",
       "      <td>969.60</td>\n",
       "      <td>489.40</td>\n",
       "      <td>23.90</td>\n",
       "      <td>16.40</td>\n",
       "    </tr>\n",
       "    <tr>\n",
       "      <th>30199</th>\n",
       "      <td>3117</td>\n",
       "      <td>8</td>\n",
       "      <td>1037.36</td>\n",
       "      <td>245.93</td>\n",
       "      <td>14.89</td>\n",
       "      <td>29.79</td>\n",
       "    </tr>\n",
       "    <tr>\n",
       "      <th>30200</th>\n",
       "      <td>3117</td>\n",
       "      <td>9</td>\n",
       "      <td>1103.97</td>\n",
       "      <td>670.34</td>\n",
       "      <td>22.04</td>\n",
       "      <td>25.01</td>\n",
       "    </tr>\n",
       "  </tbody>\n",
       "</table>\n",
       "<p>30201 rows × 6 columns</p>\n",
       "</div>"
      ],
      "text/plain": [
       "       frame  id        x       y  x_offset  y_offset\n",
       "0          1   1  1212.98  416.74     26.04     14.37\n",
       "1          1   2  1151.14  415.00     27.58     10.34\n",
       "2          1   3  1487.32  431.94     17.38     19.86\n",
       "3          1   4  1080.11  337.38     18.68      6.46\n",
       "4          1   5  1220.90  325.30     21.28     10.54\n",
       "...      ...  ..      ...     ...       ...       ...\n",
       "30196   3117   5  1011.60  235.99     10.38     22.01\n",
       "30197   3117   6  1304.99  217.40     15.01     24.80\n",
       "30198   3117   7   969.60  489.40     23.90     16.40\n",
       "30199   3117   8  1037.36  245.93     14.89     29.79\n",
       "30200   3117   9  1103.97  670.34     22.04     25.01\n",
       "\n",
       "[30201 rows x 6 columns]"
      ]
     },
     "execution_count": 6,
     "metadata": {},
     "output_type": "execute_result"
    }
   ],
   "source": [
    "df"
   ]
  },
  {
   "cell_type": "code",
   "execution_count": 7,
   "metadata": {
    "colab": {
     "base_uri": "https://localhost:8080/",
     "height": 1000
    },
    "id": "7eLhtW4M9JKc",
    "outputId": "5e45d7bf-36a8-4f74-e072-ec35732f8806"
   },
   "outputs": [
    {
     "ename": "KeyboardInterrupt",
     "evalue": "",
     "output_type": "error",
     "traceback": [
      "\u001b[0;31m---------------------------------------------------------------------------\u001b[0m",
      "\u001b[0;31mKeyboardInterrupt\u001b[0m                         Traceback (most recent call last)",
      "Cell \u001b[0;32mIn[7], line 3\u001b[0m\n\u001b[1;32m      1\u001b[0m \u001b[38;5;66;03m# Iterate through each frame\u001b[39;00m\n\u001b[1;32m      2\u001b[0m \u001b[38;5;28;01mwhile\u001b[39;00m \u001b[38;5;28;01mTrue\u001b[39;00m:\n\u001b[0;32m----> 3\u001b[0m     ret, frame \u001b[38;5;241m=\u001b[39m cap\u001b[38;5;241m.\u001b[39mread()\n\u001b[1;32m      4\u001b[0m     \u001b[38;5;28;01mif\u001b[39;00m \u001b[38;5;129;01mnot\u001b[39;00m ret:\n\u001b[1;32m      5\u001b[0m         \u001b[38;5;66;03m# Reset the video capture to the beginning\u001b[39;00m\n\u001b[1;32m      6\u001b[0m         cap\u001b[38;5;241m.\u001b[39mset(cv2\u001b[38;5;241m.\u001b[39mCAP_PROP_POS_FRAMES, \u001b[38;5;241m0\u001b[39m)\n",
      "\u001b[0;31mKeyboardInterrupt\u001b[0m: "
     ]
    }
   ],
   "source": [
    "# Iterate through each frame\n",
    "while True:\n",
    "    ret, frame = cap.read()\n",
    "    if not ret:\n",
    "        # Reset the video capture to the beginning\n",
    "        cap.set(cv2.CAP_PROP_POS_FRAMES, 0)\n",
    "        continue\n",
    "\n",
    "    # Get the bounding box coordinates for the current frame\n",
    "    frame_number = int(cap.get(cv2.CAP_PROP_POS_FRAMES))\n",
    "    frame_boxes = df[df['frame'] == frame_number]\n",
    "\n",
    "    # Draw bounding boxes on the frame\n",
    "    for _, row in frame_boxes.iterrows():\n",
    "        x, y, x_offset, y_offset, obj_id = int(row['x']), int(row['y']), int(row['x_offset']), int(row['y_offset']), int(row['id'])\n",
    "        xmin, ymin, xmax, ymax = x, y, x + x_offset, y + y_offset\n",
    "\n",
    "        # Draw bounding box\n",
    "        cv2.rectangle(frame, (xmin, ymin), (xmax, ymax), (0, 255, 0), 2)\n",
    "\n",
    "        # Display object id\n",
    "        cv2.putText(frame, f\"ID: {obj_id}\", (xmin, ymin - 10), cv2.FONT_HERSHEY_SIMPLEX, 0.5, (0, 255, 0), 2)\n",
    "\n",
    "    # Display the frame with bounding boxes\n",
    "    cv2.imshow('Frame', frame)\n",
    "    if cv2.waitKey(1) & 0xFF == ord('q'):\n",
    "        break\n",
    "\n",
    "# Release the video capture and close windows\n",
    "cap.release()\n",
    "cv2.destroyAllWindows()\n"
   ]
  },
  {
   "cell_type": "code",
   "execution_count": null,
   "metadata": {
    "id": "4-jhPWua-yGS"
   },
   "outputs": [],
   "source": []
  }
 ],
 "metadata": {
  "colab": {
   "provenance": []
  },
  "kernelspec": {
   "display_name": "Python 3 (ipykernel)",
   "language": "python",
   "name": "python3"
  },
  "language_info": {
   "codemirror_mode": {
    "name": "ipython",
    "version": 3
   },
   "file_extension": ".py",
   "mimetype": "text/x-python",
   "name": "python",
   "nbconvert_exporter": "python",
   "pygments_lexer": "ipython3",
   "version": "3.11.5"
  }
 },
 "nbformat": 4,
 "nbformat_minor": 1
}
