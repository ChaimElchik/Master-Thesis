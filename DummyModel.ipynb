{
  "nbformat": 4,
  "nbformat_minor": 0,
  "metadata": {
    "colab": {
      "provenance": [],
      "authorship_tag": "ABX9TyM/Eq7stdkFRf0xryrCigne",
      "include_colab_link": true
    },
    "kernelspec": {
      "name": "python3",
      "display_name": "Python 3"
    },
    "language_info": {
      "name": "python"
    }
  },
  "cells": [
    {
      "cell_type": "markdown",
      "metadata": {
        "id": "view-in-github",
        "colab_type": "text"
      },
      "source": [
        "<a href=\"https://colab.research.google.com/github/ChaimElchik/Master-Thesis/blob/main/DummyModel.ipynb\" target=\"_parent\"><img src=\"https://colab.research.google.com/assets/colab-badge.svg\" alt=\"Open In Colab\"/></a>"
      ]
    },
    {
      "cell_type": "code",
      "execution_count": null,
      "metadata": {
        "id": "ERWvZXkuJFqx"
      },
      "outputs": [],
      "source": []
    },
    {
      "cell_type": "code",
      "source": [
        "import torch\n",
        "import torch.nn as nn\n",
        "import torch.optim as optim\n",
        "from torch.utils.tensorboard import SummaryWriter\n",
        "\n",
        "# Define the neural network model\n",
        "class TwoLayerNet(nn.Module):\n",
        "    def __init__(self, input_size, hidden_size, output_size):\n",
        "        super(TwoLayerNet, self).__init__()\n",
        "        self.fc1 = nn.Linear(input_size, hidden_size)\n",
        "        self.relu = nn.ReLU()\n",
        "        self.fc2 = nn.Linear(hidden_size, output_size)\n",
        "\n",
        "    def forward(self, x):\n",
        "        x = self.relu(self.fc1(x))\n",
        "        activation = x.detach().clone()  # Capture activations for visualization\n",
        "        x = self.fc2(x)\n",
        "        return x, activation\n",
        "\n",
        "# Generate random input and labels (modify this based on your actual data)\n",
        "input_data = torch.randn(10, 4*5*3)  # 10 samples of image data (4x5x3)\n",
        "labels = torch.randint(0, 3, (10,))  # Random labels [0, 1, 2] for 10 samples\n",
        "\n",
        "# Define the model, loss function, optimizer\n",
        "input_size = 4*5*3  # Change this based on your input size\n",
        "hidden_size = 100\n",
        "output_size = 3  # Number of output classes\n",
        "model = TwoLayerNet(input_size, hidden_size, output_size)\n",
        "criterion = nn.CrossEntropyLoss()\n",
        "optimizer = optim.Adam(model.parameters(), lr=0.001)\n",
        "\n",
        "# Set up TensorBoard writer\n",
        "writer = SummaryWriter()\n",
        "\n",
        "# Training loop\n",
        "num_epochs = 10\n",
        "for epoch in range(num_epochs):\n",
        "    model.train()\n",
        "    optimizer.zero_grad()\n",
        "\n",
        "    # Forward pass\n",
        "    outputs, activations = model(input_data)\n",
        "\n",
        "    # Calculate loss\n",
        "    loss = criterion(outputs, labels)\n",
        "\n",
        "    # Backward pass and optimize\n",
        "    loss.backward()\n",
        "    optimizer.step()\n",
        "\n",
        "    # Calculate training accuracy\n",
        "    _, predicted = torch.max(outputs, 1)\n",
        "    accuracy = (predicted == labels).sum().item() / labels.size(0)\n",
        "\n",
        "    # Write training loss and accuracy to TensorBoard\n",
        "    writer.add_scalar('Training Loss', loss.item(), epoch)\n",
        "    writer.add_scalar('Training Accuracy', accuracy, epoch)\n",
        "\n",
        "    # Visualize activations in TensorBoard\n",
        "    writer.add_histogram('Hidden Layer Activations', activations, epoch)\n",
        "\n",
        "# Save the model checkpoint\n",
        "torch.save(model.state_dict(), 'model.pth')\n",
        "\n",
        "# Close TensorBoard writer\n",
        "writer.close()\n",
        "\n",
        "\n",
        "\n",
        "\n",
        "# Modify the forward method in the TwoLayerNet class\n",
        "class TwoLayerNet(nn.Module):\n",
        "    # ... (unchanged)\n",
        "\n",
        "    def forward(self, x):\n",
        "        x = self.relu(self.fc1(x))\n",
        "        activation = x.detach().clone()  # Capture activations for visualization\n",
        "        x = self.fc2(x)\n",
        "        return x, activation\n",
        "\n",
        "# Within the training loop after the forward pass\n",
        "outputs, activations = model(input_data)\n",
        "\n",
        "# Visualize activations in TensorBoard\n",
        "for i in range(len(activations)):\n",
        "    writer.add_histogram(f'Activation_Layer_{i}', activations[i], epoch)\n",
        "\n",
        "\n",
        "!tensorboard --logdir=runs"
      ],
      "metadata": {
        "colab": {
          "base_uri": "https://localhost:8080/"
        },
        "id": "merFN5IOJIlP",
        "outputId": "d75eb7cd-a63b-47f9-8975-0b6b9c1dbe8c"
      },
      "execution_count": 2,
      "outputs": [
        {
          "output_type": "stream",
          "name": "stdout",
          "text": [
            "2023-11-14 14:05:07.254303: E tensorflow/compiler/xla/stream_executor/cuda/cuda_dnn.cc:9342] Unable to register cuDNN factory: Attempting to register factory for plugin cuDNN when one has already been registered\n",
            "2023-11-14 14:05:07.254379: E tensorflow/compiler/xla/stream_executor/cuda/cuda_fft.cc:609] Unable to register cuFFT factory: Attempting to register factory for plugin cuFFT when one has already been registered\n",
            "2023-11-14 14:05:07.254429: E tensorflow/compiler/xla/stream_executor/cuda/cuda_blas.cc:1518] Unable to register cuBLAS factory: Attempting to register factory for plugin cuBLAS when one has already been registered\n",
            "2023-11-14 14:05:09.093559: W tensorflow/compiler/tf2tensorrt/utils/py_utils.cc:38] TF-TRT Warning: Could not find TensorRT\n",
            "\n",
            "NOTE: Using experimental fast data loading logic. To disable, pass\n",
            "    \"--load_fast=false\" and report issues on GitHub. More details:\n",
            "    https://github.com/tensorflow/tensorboard/issues/4784\n",
            "\n",
            "Serving TensorBoard on localhost; to expose to the network, use a proxy or pass --bind_all\n",
            "TensorBoard 2.14.1 at http://localhost:6006/ (Press CTRL+C to quit)\n"
          ]
        }
      ]
    },
    {
      "cell_type": "code",
      "source": [],
      "metadata": {
        "id": "9lcfFvlEJmSt"
      },
      "execution_count": null,
      "outputs": []
    }
  ]
}